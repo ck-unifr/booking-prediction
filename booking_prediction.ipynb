{
 "cells": [
  {
   "cell_type": "markdown",
   "metadata": {},
   "source": [
    "# Prediction of bookings based on user behavior\n",
    "Data Scientist – User Profiling, Hotel Search\n",
    "\n",
    "- Author: Kai Chen\n",
    "- Date: Apr, 2018"
   ]
  },
  {
   "cell_type": "markdown",
   "metadata": {},
   "source": [
    "There are 3 types of data: Bookings, User actions, Example\n",
    "\n",
    "## Data: Bookings\n",
    "- Description: List of sessions, each with: session-related contextual data, and whether at least one booking was made\n",
    "- Files:\n",
    "\t- case_study_bookings_train.csv: Training sessions for bookings\n",
    "\t- case_study_bookings_target.csv: Target sessions to predict bookings\n",
    "- Rows: Each row represents a session with session context and the outcome of this session\n",
    "- Columns:\n",
    "\t- ymd: Date of the session in format 'yyMMdd'\n",
    "\t- user_id: Anonymized cookie id of the visitor\n",
    "\t- session_id: Anonymized id of the session\n",
    "\t- referer_code: Encoded category of the referer to the website\n",
    "\t- is_app: If the session was made using the trivago app\n",
    "\t- agent_id: Encoded type of the browser\n",
    "\t- traffic_type: A categorization of the type of the traffic\n",
    "\t- has_booking: 1 if at least one booking was made during the session (excluded from the target set)\n",
    "    \n",
    "## Data: User Actions\n",
    "- Description: Sequence of various type of user actions generated during the usage of the website.\n",
    "- Files\n",
    "\t- case_study_actions_train.csv: Training set of user actions\n",
    "\t- case_study_actions_target.csv: User actions in the target sessions\n",
    "- Rows: Each row represents one action from/to the user\n",
    "- Columns:\n",
    "\t- ymd: Date of the action in format 'yyMMdd'\n",
    "\t- user_id: Anonymized cookie id of the visitor\n",
    "\t- session_id: Anonymized id of the session\n",
    "\t- action_id: Type of the action\n",
    "\t- reference: Object of the action. - We note that action_ids with big set of reference values (e.g. action id '2116') are typically related to the content (e.g hotels, destinations or keywords); while action_ids with small reference set (e.g. action id '2351') are more related a function of the website (e.g. sorting order, room type, filters, etc.)\n",
    "\t- step: The number identifying the action in the session\n",
    "\t\n",
    "## Data: Example Solution\n",
    "- Description: List of predictions for bookings in the target sessions\n",
    "- File: case_study_bookings_target_prediction_example.csv\n",
    "- Rows: Each row represent a target session for which a prediction should be given\n",
    "- Columns:\n",
    "\t- session_id: Anonymized id of the session\n",
    "\t- has_booking: Random binary predictions for bookings"
   ]
  },
  {
   "cell_type": "code",
   "execution_count": 1,
   "metadata": {},
   "outputs": [],
   "source": [
    "import matplotlib.pyplot as plt\n",
    "import matplotlib.image as mpimg\n",
    "%matplotlib inline\n",
    "\n",
    "import warnings\n",
    "warnings.filterwarnings('ignore')\n",
    "\n",
    "from sklearn.ensemble import RandomForestClassifier, RandomForestRegressor\n",
    "from sklearn.linear_model import LogisticRegression\n",
    "\n",
    "import numpy as np\n",
    "import pandas as pd\n",
    "from datetime import datetime\n",
    "\n",
    "from sklearn.model_selection import train_test_split\n",
    "from sklearn.metrics import matthews_corrcoef\n",
    "from sklearn.model_selection import RandomizedSearchCV, GridSearchCV\n",
    "from sklearn.metrics import roc_auc_score\n",
    "from sklearn.model_selection import StratifiedKFold\n",
    "from sklearn.externals import joblib\n",
    "from sklearn.naive_bayes import GaussianNB\n",
    "from sklearn.naive_bayes import MultinomialNB\n",
    "from sklearn import linear_model\n",
    "\n",
    "import xgboost as xgb\n",
    "from xgboost import XGBClassifier"
   ]
  },
  {
   "cell_type": "code",
   "execution_count": 2,
   "metadata": {},
   "outputs": [],
   "source": [
    "# ---\n",
    "# Define file paths\n",
    "TRAIN_BOOKING_FILE_PATH = 'data/case_study_bookings_train.csv'    # training sessions for bookings\n",
    "TARGET_BOOKING_FILE_PATH = 'data/case_study_bookings_target.csv'  # target sessions to predict bookings\n",
    "\n",
    "TRAIN_ACTION_FILE_PATH = 'data/case_study_actions_train.csv'       # training set of user actions\n",
    "TARGET_ACTION_FILE_PATH = 'data/case_study_actions_target.csv'     # user actions in the target sessions"
   ]
  },
  {
   "cell_type": "markdown",
   "metadata": {},
   "source": [
    "## Step 1: read and explore the data"
   ]
  },
  {
   "cell_type": "code",
   "execution_count": 5,
   "metadata": {},
   "outputs": [
    {
     "name": "stdout",
     "output_type": "stream",
     "text": [
      "train booking\n",
      "Index(['ymd', 'user_id', 'session_id', 'referer_code', 'is_app', 'agent_id',\n",
      "       'traffic_type', 'has_booking'],\n",
      "      dtype='object')\n"
     ]
    },
    {
     "data": {
      "text/html": [
       "<div>\n",
       "<style scoped>\n",
       "    .dataframe tbody tr th:only-of-type {\n",
       "        vertical-align: middle;\n",
       "    }\n",
       "\n",
       "    .dataframe tbody tr th {\n",
       "        vertical-align: top;\n",
       "    }\n",
       "\n",
       "    .dataframe thead th {\n",
       "        text-align: right;\n",
       "    }\n",
       "</style>\n",
       "<table border=\"1\" class=\"dataframe\">\n",
       "  <thead>\n",
       "    <tr style=\"text-align: right;\">\n",
       "      <th></th>\n",
       "      <th>ymd</th>\n",
       "      <th>user_id</th>\n",
       "      <th>session_id</th>\n",
       "      <th>referer_code</th>\n",
       "      <th>is_app</th>\n",
       "      <th>agent_id</th>\n",
       "      <th>traffic_type</th>\n",
       "      <th>has_booking</th>\n",
       "    </tr>\n",
       "  </thead>\n",
       "  <tbody>\n",
       "    <tr>\n",
       "      <th>0</th>\n",
       "      <td>2017-04-23</td>\n",
       "      <td>388309106223940</td>\n",
       "      <td>3052767322364990735</td>\n",
       "      <td>0</td>\n",
       "      <td>0</td>\n",
       "      <td>2</td>\n",
       "      <td>1</td>\n",
       "      <td>0</td>\n",
       "    </tr>\n",
       "    <tr>\n",
       "      <th>1</th>\n",
       "      <td>2017-04-10</td>\n",
       "      <td>452426828488840</td>\n",
       "      <td>1022778951418899936</td>\n",
       "      <td>0</td>\n",
       "      <td>0</td>\n",
       "      <td>10</td>\n",
       "      <td>2</td>\n",
       "      <td>0</td>\n",
       "    </tr>\n",
       "    <tr>\n",
       "      <th>2</th>\n",
       "      <td>2017-04-15</td>\n",
       "      <td>452426828488840</td>\n",
       "      <td>4191504489082712531</td>\n",
       "      <td>0</td>\n",
       "      <td>0</td>\n",
       "      <td>10</td>\n",
       "      <td>2</td>\n",
       "      <td>0</td>\n",
       "    </tr>\n",
       "    <tr>\n",
       "      <th>3</th>\n",
       "      <td>2017-04-06</td>\n",
       "      <td>819438352219100</td>\n",
       "      <td>4560227804862289210</td>\n",
       "      <td>1</td>\n",
       "      <td>0</td>\n",
       "      <td>1</td>\n",
       "      <td>1</td>\n",
       "      <td>0</td>\n",
       "    </tr>\n",
       "    <tr>\n",
       "      <th>4</th>\n",
       "      <td>2017-04-07</td>\n",
       "      <td>1113732603712480</td>\n",
       "      <td>4115013282086590434</td>\n",
       "      <td>0</td>\n",
       "      <td>0</td>\n",
       "      <td>9</td>\n",
       "      <td>2</td>\n",
       "      <td>0</td>\n",
       "    </tr>\n",
       "  </tbody>\n",
       "</table>\n",
       "</div>"
      ],
      "text/plain": [
       "         ymd           user_id           session_id  referer_code  is_app  \\\n",
       "0 2017-04-23   388309106223940  3052767322364990735             0       0   \n",
       "1 2017-04-10   452426828488840  1022778951418899936             0       0   \n",
       "2 2017-04-15   452426828488840  4191504489082712531             0       0   \n",
       "3 2017-04-06   819438352219100  4560227804862289210             1       0   \n",
       "4 2017-04-07  1113732603712480  4115013282086590434             0       0   \n",
       "\n",
       "   agent_id  traffic_type  has_booking  \n",
       "0         2             1            0  \n",
       "1        10             2            0  \n",
       "2        10             2            0  \n",
       "3         1             1            0  \n",
       "4         9             2            0  "
      ]
     },
     "metadata": {},
     "output_type": "display_data"
    }
   ],
   "source": [
    "train_booking_df = pd.read_csv(TRAIN_BOOKING_FILE_PATH, sep='\\t')\n",
    "train_booking_df['ymd'] = pd.to_datetime(train_booking_df['ymd'].astype('str'))\n",
    "\n",
    "print('train booking')\n",
    "print(train_booking_df.columns)\n",
    "display(train_booking_df.head(5))"
   ]
  },
  {
   "cell_type": "code",
   "execution_count": 6,
   "metadata": {},
   "outputs": [
    {
     "name": "stdout",
     "output_type": "stream",
     "text": [
      "target booking\n",
      "Index(['ymd', 'user_id', 'session_id', 'referer_code', 'is_app', 'agent_id',\n",
      "       'traffic_type'],\n",
      "      dtype='object')\n"
     ]
    },
    {
     "data": {
      "text/html": [
       "<div>\n",
       "<style scoped>\n",
       "    .dataframe tbody tr th:only-of-type {\n",
       "        vertical-align: middle;\n",
       "    }\n",
       "\n",
       "    .dataframe tbody tr th {\n",
       "        vertical-align: top;\n",
       "    }\n",
       "\n",
       "    .dataframe thead th {\n",
       "        text-align: right;\n",
       "    }\n",
       "</style>\n",
       "<table border=\"1\" class=\"dataframe\">\n",
       "  <thead>\n",
       "    <tr style=\"text-align: right;\">\n",
       "      <th></th>\n",
       "      <th>ymd</th>\n",
       "      <th>user_id</th>\n",
       "      <th>session_id</th>\n",
       "      <th>referer_code</th>\n",
       "      <th>is_app</th>\n",
       "      <th>agent_id</th>\n",
       "      <th>traffic_type</th>\n",
       "    </tr>\n",
       "  </thead>\n",
       "  <tbody>\n",
       "    <tr>\n",
       "      <th>0</th>\n",
       "      <td>2017-04-30</td>\n",
       "      <td>1607565913119260</td>\n",
       "      <td>4175939893794521966</td>\n",
       "      <td>0</td>\n",
       "      <td>0</td>\n",
       "      <td>14</td>\n",
       "      <td>6</td>\n",
       "    </tr>\n",
       "    <tr>\n",
       "      <th>1</th>\n",
       "      <td>2017-04-30</td>\n",
       "      <td>1607565913119260</td>\n",
       "      <td>9175174925268392332</td>\n",
       "      <td>0</td>\n",
       "      <td>0</td>\n",
       "      <td>14</td>\n",
       "      <td>1</td>\n",
       "    </tr>\n",
       "    <tr>\n",
       "      <th>2</th>\n",
       "      <td>2017-04-30</td>\n",
       "      <td>2669945826129900</td>\n",
       "      <td>5361965966177226983</td>\n",
       "      <td>0</td>\n",
       "      <td>0</td>\n",
       "      <td>6</td>\n",
       "      <td>6</td>\n",
       "    </tr>\n",
       "    <tr>\n",
       "      <th>3</th>\n",
       "      <td>2017-04-30</td>\n",
       "      <td>6247954936827660</td>\n",
       "      <td>7996347049132178025</td>\n",
       "      <td>0</td>\n",
       "      <td>0</td>\n",
       "      <td>13</td>\n",
       "      <td>2</td>\n",
       "    </tr>\n",
       "    <tr>\n",
       "      <th>4</th>\n",
       "      <td>2017-04-30</td>\n",
       "      <td>6447705595982360</td>\n",
       "      <td>6061498713259551906</td>\n",
       "      <td>99</td>\n",
       "      <td>0</td>\n",
       "      <td>1</td>\n",
       "      <td>6</td>\n",
       "    </tr>\n",
       "  </tbody>\n",
       "</table>\n",
       "</div>"
      ],
      "text/plain": [
       "         ymd           user_id           session_id  referer_code  is_app  \\\n",
       "0 2017-04-30  1607565913119260  4175939893794521966             0       0   \n",
       "1 2017-04-30  1607565913119260  9175174925268392332             0       0   \n",
       "2 2017-04-30  2669945826129900  5361965966177226983             0       0   \n",
       "3 2017-04-30  6247954936827660  7996347049132178025             0       0   \n",
       "4 2017-04-30  6447705595982360  6061498713259551906            99       0   \n",
       "\n",
       "   agent_id  traffic_type  \n",
       "0        14             6  \n",
       "1        14             1  \n",
       "2         6             6  \n",
       "3        13             2  \n",
       "4         1             6  "
      ]
     },
     "metadata": {},
     "output_type": "display_data"
    }
   ],
   "source": [
    "target_booking_df = pd.read_csv(TARGET_BOOKING_FILE_PATH, sep='\\t')\n",
    "target_booking_df['ymd'] = pd.to_datetime(target_booking_df['ymd'].astype('str'))\n",
    "\n",
    "print('target booking')\n",
    "print(target_booking_df.columns)\n",
    "display(target_booking_df.head(5))"
   ]
  },
  {
   "cell_type": "code",
   "execution_count": 7,
   "metadata": {},
   "outputs": [
    {
     "name": "stdout",
     "output_type": "stream",
     "text": [
      "number of users (train booking data): 181860\n",
      "number of sessions (tarin booking data): 307677\n",
      "dataframe size (train booking data)\n",
      "(307677, 8)\n"
     ]
    }
   ],
   "source": [
    "train_user_id_list = train_booking_df['user_id'].unique()\n",
    "train_session_id_list = train_booking_df['session_id'].unique()\n",
    "\n",
    "print('number of users (train booking data): {}'.format(len(train_user_id_list)))\n",
    "print('number of sessions (tarin booking data): {}'.format(len(train_session_id_list)))\n",
    "print('dataframe size (train booking data)')\n",
    "print(train_booking_df.shape)"
   ]
  },
  {
   "cell_type": "code",
   "execution_count": 8,
   "metadata": {},
   "outputs": [
    {
     "name": "stdout",
     "output_type": "stream",
     "text": [
      "number of users (target booking data): 23402\n",
      "number of sessions (target booking data): 30128\n",
      "dataframe size (target booking data)\n",
      "(30128, 7)\n"
     ]
    }
   ],
   "source": [
    "target_user_id_list = target_booking_df['user_id'].unique()\n",
    "target_session_id_list = target_booking_df['session_id'].unique()\n",
    "\n",
    "print('number of users (target booking data): {}'.format(len(target_user_id_list)))\n",
    "print('number of sessions (target booking data): {}'.format(len(target_session_id_list)))\n",
    "print('dataframe size (target booking data)')\n",
    "print(target_booking_df.shape)"
   ]
  },
  {
   "cell_type": "code",
   "execution_count": 9,
   "metadata": {},
   "outputs": [
    {
     "name": "stdout",
     "output_type": "stream",
     "text": [
      "train action\n",
      "Index(['ymd', 'user_id', 'session_id', 'action_id', 'reference', 'step'], dtype='object')\n"
     ]
    },
    {
     "data": {
      "text/html": [
       "<div>\n",
       "<style scoped>\n",
       "    .dataframe tbody tr th:only-of-type {\n",
       "        vertical-align: middle;\n",
       "    }\n",
       "\n",
       "    .dataframe tbody tr th {\n",
       "        vertical-align: top;\n",
       "    }\n",
       "\n",
       "    .dataframe thead th {\n",
       "        text-align: right;\n",
       "    }\n",
       "</style>\n",
       "<table border=\"1\" class=\"dataframe\">\n",
       "  <thead>\n",
       "    <tr style=\"text-align: right;\">\n",
       "      <th></th>\n",
       "      <th>ymd</th>\n",
       "      <th>user_id</th>\n",
       "      <th>session_id</th>\n",
       "      <th>action_id</th>\n",
       "      <th>reference</th>\n",
       "      <th>step</th>\n",
       "    </tr>\n",
       "  </thead>\n",
       "  <tbody>\n",
       "    <tr>\n",
       "      <th>0</th>\n",
       "      <td>2017-04-23</td>\n",
       "      <td>388309106223940</td>\n",
       "      <td>3052767322364990735</td>\n",
       "      <td>8001</td>\n",
       "      <td>1323836</td>\n",
       "      <td>1</td>\n",
       "    </tr>\n",
       "    <tr>\n",
       "      <th>1</th>\n",
       "      <td>2017-04-10</td>\n",
       "      <td>452426828488840</td>\n",
       "      <td>1022778951418899936</td>\n",
       "      <td>2116</td>\n",
       "      <td>929835</td>\n",
       "      <td>1</td>\n",
       "    </tr>\n",
       "    <tr>\n",
       "      <th>2</th>\n",
       "      <td>2017-04-10</td>\n",
       "      <td>452426828488840</td>\n",
       "      <td>1022778951418899936</td>\n",
       "      <td>6999</td>\n",
       "      <td>0</td>\n",
       "      <td>2</td>\n",
       "    </tr>\n",
       "    <tr>\n",
       "      <th>3</th>\n",
       "      <td>2017-04-10</td>\n",
       "      <td>452426828488840</td>\n",
       "      <td>1022778951418899936</td>\n",
       "      <td>2116</td>\n",
       "      <td>929835</td>\n",
       "      <td>3</td>\n",
       "    </tr>\n",
       "    <tr>\n",
       "      <th>4</th>\n",
       "      <td>2017-04-10</td>\n",
       "      <td>452426828488840</td>\n",
       "      <td>1022778951418899936</td>\n",
       "      <td>2503</td>\n",
       "      <td>1</td>\n",
       "      <td>4</td>\n",
       "    </tr>\n",
       "  </tbody>\n",
       "</table>\n",
       "</div>"
      ],
      "text/plain": [
       "         ymd          user_id           session_id  action_id  reference  step\n",
       "0 2017-04-23  388309106223940  3052767322364990735       8001    1323836     1\n",
       "1 2017-04-10  452426828488840  1022778951418899936       2116     929835     1\n",
       "2 2017-04-10  452426828488840  1022778951418899936       6999          0     2\n",
       "3 2017-04-10  452426828488840  1022778951418899936       2116     929835     3\n",
       "4 2017-04-10  452426828488840  1022778951418899936       2503          1     4"
      ]
     },
     "metadata": {},
     "output_type": "display_data"
    }
   ],
   "source": [
    "train_action_df = pd.read_csv(TRAIN_ACTION_FILE_PATH, sep='\\t')\n",
    "train_action_df['ymd'] = pd.to_datetime(train_action_df['ymd'].astype('str'))\n",
    "\n",
    "print('train action')\n",
    "print(train_action_df.columns)\n",
    "display(train_action_df.head(5))"
   ]
  },
  {
   "cell_type": "code",
   "execution_count": 10,
   "metadata": {},
   "outputs": [
    {
     "name": "stdout",
     "output_type": "stream",
     "text": [
      "number of users (train action data): 181730\n",
      "number of sessions (train action data): 306106\n",
      "dataframe size (train booking data)\n",
      "(5862863, 6)\n"
     ]
    }
   ],
   "source": [
    "train_user_id_action_list = train_action_df['user_id'].unique()\n",
    "train_session_id_action_list = train_action_df['session_id'].unique()\n",
    "\n",
    "print('number of users (train action data): {}'.format(len(train_user_id_action_list)))\n",
    "print('number of sessions (train action data): {}'.format(len(train_session_id_action_list)))\n",
    "print('dataframe size (train booking data)')\n",
    "print(train_action_df.shape)"
   ]
  },
  {
   "cell_type": "code",
   "execution_count": 11,
   "metadata": {},
   "outputs": [
    {
     "name": "stdout",
     "output_type": "stream",
     "text": [
      "target action\n",
      "Index(['ymd', 'user_id', 'session_id', 'action_id', 'reference', 'step'], dtype='object')\n",
      "         ymd           user_id           session_id  action_id  reference  \\\n",
      "0 2017-04-30  1607565913119260  4175939893794521966       2113      60196   \n",
      "1 2017-04-30  1607565913119260  4175939893794521966       6999          0   \n",
      "2 2017-04-30  1607565913119260  4175939893794521966       2113      60196   \n",
      "3 2017-04-30  1607565913119260  9175174925268392332       2100          0   \n",
      "4 2017-04-30  1607565913119260  9175174925268392332       6999          0   \n",
      "\n",
      "   step  \n",
      "0     1  \n",
      "1     2  \n",
      "2     3  \n",
      "3     1  \n",
      "4     2  \n"
     ]
    }
   ],
   "source": [
    "target_action_df = pd.read_csv(TARGET_ACTION_FILE_PATH, sep='\\t')\n",
    "target_action_df['ymd'] = pd.to_datetime(target_action_df['ymd'].astype('str'))\n",
    "\n",
    "print('target action')\n",
    "print(target_action_df.columns)\n",
    "print(target_action_df.head(5))"
   ]
  },
  {
   "cell_type": "code",
   "execution_count": 12,
   "metadata": {},
   "outputs": [
    {
     "name": "stdout",
     "output_type": "stream",
     "text": [
      "number of users (target action data): 23314\n",
      "number of sessions (target action data): 29957\n",
      "dataframe size (target booking data)\n",
      "(575152, 6)\n"
     ]
    }
   ],
   "source": [
    "target_user_id_action_list = target_action_df['user_id'].unique()\n",
    "target_session_id_action_list = target_action_df['session_id'].unique()\n",
    "\n",
    "\n",
    "print('number of users (target action data): {}'.format(len(target_user_id_action_list)))\n",
    "print('number of sessions (target action data): {}'.format(len(target_session_id_action_list)))\n",
    "print('dataframe size (target booking data)')\n",
    "print(target_action_df.shape)"
   ]
  },
  {
   "cell_type": "code",
   "execution_count": 13,
   "metadata": {},
   "outputs": [
    {
     "name": "stdout",
     "output_type": "stream",
     "text": [
      "train action\n",
      "Index(['ymd', 'user_id', 'session_id', 'action_id', 'reference', 'step'], dtype='object')\n",
      "         ymd          user_id           session_id  action_id  reference  step\n",
      "0 2017-04-23  388309106223940  3052767322364990735       8001    1323836     1\n",
      "1 2017-04-10  452426828488840  1022778951418899936       2116     929835     1\n",
      "2 2017-04-10  452426828488840  1022778951418899936       6999          0     2\n",
      "3 2017-04-10  452426828488840  1022778951418899936       2116     929835     3\n",
      "4 2017-04-10  452426828488840  1022778951418899936       2503          1     4\n"
     ]
    }
   ],
   "source": [
    "train_action_df = pd.read_csv(TRAIN_ACTION_FILE_PATH, sep='\\t')\n",
    "train_action_df['ymd'] = pd.to_datetime(train_action_df['ymd'].astype('str'))\n",
    "\n",
    "print('train action')\n",
    "print(train_action_df.columns)\n",
    "print(train_action_df.head(5))"
   ]
  },
  {
   "cell_type": "code",
   "execution_count": 14,
   "metadata": {},
   "outputs": [
    {
     "name": "stdout",
     "output_type": "stream",
     "text": [
      "number of users (train action data): 181730\n",
      "number of sessions (train action data): 306106\n",
      "dataframe size (train booking data)\n",
      "(5862863, 6)\n"
     ]
    }
   ],
   "source": [
    "train_user_id_action_list = train_action_df['user_id'].unique()\n",
    "train_session_id_action_list = train_action_df['session_id'].unique()\n",
    "\n",
    "\n",
    "print('number of users (train action data): {}'.format(len(train_user_id_action_list)))\n",
    "print('number of sessions (train action data): {}'.format(len(train_session_id_action_list)))\n",
    "print('dataframe size (train booking data)')\n",
    "print(train_action_df.shape)"
   ]
  },
  {
   "cell_type": "code",
   "execution_count": 15,
   "metadata": {},
   "outputs": [
    {
     "name": "stdout",
     "output_type": "stream",
     "text": [
      "target action\n",
      "Index(['ymd', 'user_id', 'session_id', 'action_id', 'reference', 'step'], dtype='object')\n",
      "         ymd           user_id           session_id  action_id  reference  \\\n",
      "0 2017-04-30  1607565913119260  4175939893794521966       2113      60196   \n",
      "1 2017-04-30  1607565913119260  4175939893794521966       6999          0   \n",
      "2 2017-04-30  1607565913119260  4175939893794521966       2113      60196   \n",
      "3 2017-04-30  1607565913119260  9175174925268392332       2100          0   \n",
      "4 2017-04-30  1607565913119260  9175174925268392332       6999          0   \n",
      "\n",
      "   step  \n",
      "0     1  \n",
      "1     2  \n",
      "2     3  \n",
      "3     1  \n",
      "4     2  \n"
     ]
    }
   ],
   "source": [
    "target_action_df = pd.read_csv(TARGET_ACTION_FILE_PATH, sep='\\t')\n",
    "target_action_df['ymd'] = pd.to_datetime(target_action_df['ymd'].astype('str'))\n",
    "\n",
    "print('target action')\n",
    "print(target_action_df.columns)\n",
    "print(target_action_df.head(5))"
   ]
  },
  {
   "cell_type": "code",
   "execution_count": 16,
   "metadata": {},
   "outputs": [
    {
     "name": "stdout",
     "output_type": "stream",
     "text": [
      "number of users (target action data): 23314\n",
      "number of sessions (target action data): 29957\n",
      "dataframe size (target booking data)\n",
      "(575152, 6)\n"
     ]
    }
   ],
   "source": [
    "target_user_id_action_list = target_action_df['user_id'].unique()\n",
    "target_session_id_action_list = target_action_df['session_id'].unique()\n",
    "\n",
    "\n",
    "print('number of users (target action data): {}'.format(len(target_user_id_action_list)))\n",
    "print('number of sessions (target action data): {}'.format(len(target_session_id_action_list)))\n",
    "print('dataframe size (target booking data)')\n",
    "print(target_action_df.shape)"
   ]
  },
  {
   "cell_type": "code",
   "execution_count": 17,
   "metadata": {},
   "outputs": [
    {
     "name": "stdout",
     "output_type": "stream",
     "text": [
      "train user df shape\n",
      "(5862863, 11)\n"
     ]
    },
    {
     "data": {
      "text/html": [
       "<div>\n",
       "<style scoped>\n",
       "    .dataframe tbody tr th:only-of-type {\n",
       "        vertical-align: middle;\n",
       "    }\n",
       "\n",
       "    .dataframe tbody tr th {\n",
       "        vertical-align: top;\n",
       "    }\n",
       "\n",
       "    .dataframe thead th {\n",
       "        text-align: right;\n",
       "    }\n",
       "</style>\n",
       "<table border=\"1\" class=\"dataframe\">\n",
       "  <thead>\n",
       "    <tr style=\"text-align: right;\">\n",
       "      <th></th>\n",
       "      <th>ymd</th>\n",
       "      <th>user_id</th>\n",
       "      <th>session_id</th>\n",
       "      <th>referer_code</th>\n",
       "      <th>is_app</th>\n",
       "      <th>agent_id</th>\n",
       "      <th>traffic_type</th>\n",
       "      <th>has_booking</th>\n",
       "      <th>action_id</th>\n",
       "      <th>reference</th>\n",
       "      <th>step</th>\n",
       "    </tr>\n",
       "  </thead>\n",
       "  <tbody>\n",
       "    <tr>\n",
       "      <th>0</th>\n",
       "      <td>2017-04-23</td>\n",
       "      <td>388309106223940</td>\n",
       "      <td>3052767322364990735</td>\n",
       "      <td>0</td>\n",
       "      <td>0</td>\n",
       "      <td>2</td>\n",
       "      <td>1</td>\n",
       "      <td>0</td>\n",
       "      <td>8001</td>\n",
       "      <td>1323836</td>\n",
       "      <td>1</td>\n",
       "    </tr>\n",
       "    <tr>\n",
       "      <th>1</th>\n",
       "      <td>2017-04-10</td>\n",
       "      <td>452426828488840</td>\n",
       "      <td>1022778951418899936</td>\n",
       "      <td>0</td>\n",
       "      <td>0</td>\n",
       "      <td>10</td>\n",
       "      <td>2</td>\n",
       "      <td>0</td>\n",
       "      <td>2116</td>\n",
       "      <td>929835</td>\n",
       "      <td>1</td>\n",
       "    </tr>\n",
       "    <tr>\n",
       "      <th>2</th>\n",
       "      <td>2017-04-10</td>\n",
       "      <td>452426828488840</td>\n",
       "      <td>1022778951418899936</td>\n",
       "      <td>0</td>\n",
       "      <td>0</td>\n",
       "      <td>10</td>\n",
       "      <td>2</td>\n",
       "      <td>0</td>\n",
       "      <td>6999</td>\n",
       "      <td>0</td>\n",
       "      <td>2</td>\n",
       "    </tr>\n",
       "    <tr>\n",
       "      <th>3</th>\n",
       "      <td>2017-04-10</td>\n",
       "      <td>452426828488840</td>\n",
       "      <td>1022778951418899936</td>\n",
       "      <td>0</td>\n",
       "      <td>0</td>\n",
       "      <td>10</td>\n",
       "      <td>2</td>\n",
       "      <td>0</td>\n",
       "      <td>2116</td>\n",
       "      <td>929835</td>\n",
       "      <td>3</td>\n",
       "    </tr>\n",
       "    <tr>\n",
       "      <th>4</th>\n",
       "      <td>2017-04-10</td>\n",
       "      <td>452426828488840</td>\n",
       "      <td>1022778951418899936</td>\n",
       "      <td>0</td>\n",
       "      <td>0</td>\n",
       "      <td>10</td>\n",
       "      <td>2</td>\n",
       "      <td>0</td>\n",
       "      <td>2503</td>\n",
       "      <td>1</td>\n",
       "      <td>4</td>\n",
       "    </tr>\n",
       "  </tbody>\n",
       "</table>\n",
       "</div>"
      ],
      "text/plain": [
       "         ymd          user_id           session_id  referer_code  is_app  \\\n",
       "0 2017-04-23  388309106223940  3052767322364990735             0       0   \n",
       "1 2017-04-10  452426828488840  1022778951418899936             0       0   \n",
       "2 2017-04-10  452426828488840  1022778951418899936             0       0   \n",
       "3 2017-04-10  452426828488840  1022778951418899936             0       0   \n",
       "4 2017-04-10  452426828488840  1022778951418899936             0       0   \n",
       "\n",
       "   agent_id  traffic_type  has_booking  action_id  reference  step  \n",
       "0         2             1            0       8001    1323836     1  \n",
       "1        10             2            0       2116     929835     1  \n",
       "2        10             2            0       6999          0     2  \n",
       "3        10             2            0       2116     929835     3  \n",
       "4        10             2            0       2503          1     4  "
      ]
     },
     "metadata": {},
     "output_type": "display_data"
    }
   ],
   "source": [
    "train_user_df =  pd.merge(train_booking_df, train_action_df, on=['ymd', 'user_id', 'session_id'])\n",
    "print('train user df shape')\n",
    "print(train_user_df.shape)\n",
    "display(train_user_df.head(5))"
   ]
  },
  {
   "cell_type": "code",
   "execution_count": 18,
   "metadata": {},
   "outputs": [
    {
     "name": "stdout",
     "output_type": "stream",
     "text": [
      "ymd (train)\n",
      "['2017-04-23T00:00:00.000000000' '2017-04-10T00:00:00.000000000'\n",
      " '2017-04-15T00:00:00.000000000' '2017-04-06T00:00:00.000000000'\n",
      " '2017-04-07T00:00:00.000000000' '2017-04-19T00:00:00.000000000'\n",
      " '2017-04-16T00:00:00.000000000' '2017-04-17T00:00:00.000000000'\n",
      " '2017-04-04T00:00:00.000000000' '2017-04-13T00:00:00.000000000'\n",
      " '2017-04-08T00:00:00.000000000' '2017-04-25T00:00:00.000000000'\n",
      " '2017-04-09T00:00:00.000000000' '2017-04-12T00:00:00.000000000'\n",
      " '2017-04-03T00:00:00.000000000' '2017-04-24T00:00:00.000000000'\n",
      " '2017-04-27T00:00:00.000000000' '2017-04-26T00:00:00.000000000'\n",
      " '2017-04-02T00:00:00.000000000' '2017-04-14T00:00:00.000000000'\n",
      " '2017-04-05T00:00:00.000000000' '2017-04-22T00:00:00.000000000'\n",
      " '2017-04-20T00:00:00.000000000' '2017-04-11T00:00:00.000000000'\n",
      " '2017-04-18T00:00:00.000000000' '2017-04-21T00:00:00.000000000'\n",
      " '2017-04-01T00:00:00.000000000']\n"
     ]
    }
   ],
   "source": [
    "print('ymd (train)')\n",
    "print(train_user_df['ymd'].unique())"
   ]
  },
  {
   "cell_type": "code",
   "execution_count": 19,
   "metadata": {},
   "outputs": [
    {
     "name": "stdout",
     "output_type": "stream",
     "text": [
      "target user df shape\n",
      "(575152, 10)\n"
     ]
    }
   ],
   "source": [
    "target_user_df =  pd.merge(target_booking_df, target_action_df, on=['ymd', 'user_id', 'session_id'])\n",
    "print('target user df shape')\n",
    "print(target_user_df.shape)"
   ]
  },
  {
   "cell_type": "code",
   "execution_count": 20,
   "metadata": {},
   "outputs": [
    {
     "name": "stdout",
     "output_type": "stream",
     "text": [
      "Index(['ymd', 'user_id', 'session_id', 'referer_code', 'is_app', 'agent_id',\n",
      "       'traffic_type', 'action_id', 'reference', 'step'],\n",
      "      dtype='object')\n",
      "         ymd           user_id           session_id  referer_code  is_app  \\\n",
      "0 2017-04-30  1607565913119260  4175939893794521966             0       0   \n",
      "1 2017-04-30  1607565913119260  4175939893794521966             0       0   \n",
      "2 2017-04-30  1607565913119260  4175939893794521966             0       0   \n",
      "3 2017-04-30  1607565913119260  9175174925268392332             0       0   \n",
      "4 2017-04-30  1607565913119260  9175174925268392332             0       0   \n",
      "\n",
      "   agent_id  traffic_type  action_id  reference  step  \n",
      "0        14             6       2113      60196     1  \n",
      "1        14             6       6999          0     2  \n",
      "2        14             6       2113      60196     3  \n",
      "3        14             1       2100          0     1  \n",
      "4        14             1       6999          0     2  \n",
      "ymd (target)\n",
      "['2017-04-30T00:00:00.000000000' '2017-04-28T00:00:00.000000000'\n",
      " '2017-04-29T00:00:00.000000000']\n"
     ]
    }
   ],
   "source": [
    "print(target_user_df.columns)\n",
    "print(target_user_df.head(5))\n",
    "print('ymd (target)')\n",
    "print(target_user_df['ymd'].unique())"
   ]
  },
  {
   "cell_type": "code",
   "execution_count": 22,
   "metadata": {},
   "outputs": [
    {
     "name": "stdout",
     "output_type": "stream",
     "text": [
      "number of users (train) 181730\n"
     ]
    }
   ],
   "source": [
    "train_user_id_list = train_user_df['user_id'].unique()\n",
    "\n",
    "print('number of users (train) {}'.format(len(train_user_id_list)))"
   ]
  },
  {
   "cell_type": "code",
   "execution_count": 23,
   "metadata": {},
   "outputs": [
    {
     "name": "stdout",
     "output_type": "stream",
     "text": [
      "number of users (target) 23314\n"
     ]
    }
   ],
   "source": [
    "target_user_id_list = target_user_df['user_id'].unique()\n",
    "\n",
    "print('number of users (target) {}'.format(len(target_user_id_list)))"
   ]
  },
  {
   "cell_type": "code",
   "execution_count": 27,
   "metadata": {},
   "outputs": [
    {
     "name": "stdout",
     "output_type": "stream",
     "text": [
      "\n",
      "number of different user between train user id and target user id\n",
      "173755\n"
     ]
    }
   ],
   "source": [
    "print('\\nnumber of different user between train user id and target user id')\n",
    "print(len(set(train_user_id_list) - set(target_user_id_list)))\n",
    "\n",
    "# this shows that we can not use user_id as a feature"
   ]
  },
  {
   "cell_type": "code",
   "execution_count": 29,
   "metadata": {},
   "outputs": [
    {
     "name": "stdout",
     "output_type": "stream",
     "text": [
      "correlation\n",
      "corr score of referer_code and has_booking -0.04996365727616134\n",
      "corr score of is_app and has_booking -0.05034281311524376\n",
      "corr score of agent_id and has_booking -0.1027644482553173\n",
      "corr score of traffic_type and has_booking -0.08003718320445342\n",
      "corr score of action_id and has_booking 0.008564912707614244\n",
      "corr score of reference and has_booking 0.005837510233315804\n",
      "corr score of step and has_booking 0.08539763680890129\n"
     ]
    }
   ],
   "source": [
    "print('correlation')\n",
    "corr_score = train_user_df['referer_code'].corr(train_user_df['has_booking'])\n",
    "print('corr score of referer_code and has_booking {}'.format(corr_score))\n",
    "\n",
    "corr_score = train_user_df['is_app'].corr(train_user_df['has_booking'])\n",
    "print('corr score of is_app and has_booking {}'.format(corr_score))\n",
    "\n",
    "corr_score = train_user_df['agent_id'].corr(train_user_df['has_booking'])\n",
    "print('corr score of agent_id and has_booking {}'.format(corr_score))\n",
    "\n",
    "corr_score = train_user_df['traffic_type'].corr(train_user_df['has_booking'])\n",
    "print('corr score of traffic_type and has_booking {}'.format(corr_score))\n",
    "\n",
    "corr_score = train_user_df['action_id'].corr(train_user_df['has_booking'])\n",
    "print('corr score of action_id and has_booking {}'.format(corr_score))\n",
    "\n",
    "corr_score = train_user_df['reference'].corr(train_user_df['has_booking'])\n",
    "print('corr score of reference and has_booking {}'.format(corr_score))\n",
    "\n",
    "corr_score = train_user_df['step'].corr(train_user_df['has_booking'])\n",
    "print('corr score of step and has_booking {}'.format(corr_score))"
   ]
  },
  {
   "cell_type": "code",
   "execution_count": 32,
   "metadata": {},
   "outputs": [],
   "source": [
    "def get_nb_bookings_dict(df, column_name, has_booking_name='has_booking'):\n",
    "    # key: column value  value: number of bookings\n",
    "    dict_nb_bookings = dict()\n",
    "    col_list = df[column_name].unique()\n",
    "    # print(column_name)\n",
    "    # print(col_list)\n",
    "    for value in col_list:\n",
    "        values = df[train_user_df[column_name] == value][has_booking_name].values\n",
    "        dict_nb_bookings[value] = sum(values)\n",
    "\n",
    "    return dict_nb_bookings, col_list"
   ]
  },
  {
   "cell_type": "code",
   "execution_count": null,
   "metadata": {},
   "outputs": [
    {
     "name": "stdout",
     "output_type": "stream",
     "text": [
      "\n",
      " --------------------\n",
      "referer_code\n",
      "[ 0  1 99 15 11 10 24 21 23 17 19]\n",
      "referer_code: 0 #bookings: 308655\n",
      "referer_code: 1 #bookings: 366608\n",
      "referer_code: 99 #bookings: 43789\n",
      "referer_code: 15 #bookings: 1297\n",
      "referer_code: 11 #bookings: 29141\n",
      "referer_code: 10 #bookings: 10611\n",
      "referer_code: 24 #bookings: 0\n",
      "referer_code: 21 #bookings: 1785\n",
      "referer_code: 23 #bookings: 402\n",
      "referer_code: 17 #bookings: 21\n",
      "referer_code: 19 #bookings: 0\n",
      "\n",
      " --------------------\n",
      "\n",
      "\n",
      " --------------------\n",
      "is_app\n",
      "[0 1]\n",
      "is_app: 0 #bookings: 700019\n",
      "is_app: 1 #bookings: 62290\n",
      "\n",
      " --------------------\n",
      "\n",
      "\n",
      " --------------------\n",
      "agent_id\n",
      "[ 2 10  1  9 14  7  8  6 13  0 12 11  3  4  5]\n",
      "agent_id: 2 #bookings: 33809\n",
      "agent_id: 10 #bookings: 78428\n",
      "agent_id: 1 #bookings: 224860\n",
      "agent_id: 9 #bookings: 128684\n",
      "agent_id: 14 #bookings: 41493\n",
      "agent_id: 7 #bookings: 69655\n",
      "agent_id: 8 #bookings: 100821\n",
      "agent_id: 6 #bookings: 57062\n",
      "agent_id: 13 #bookings: 22576\n",
      "agent_id: 0 #bookings: 2848\n",
      "agent_id: 12 #bookings: 711\n",
      "agent_id: 11 #bookings: 1354\n",
      "agent_id: 3 #bookings: 8\n",
      "agent_id: 4 #bookings: 0\n",
      "agent_id: 5 #bookings: 0\n",
      "\n",
      " --------------------\n",
      "\n",
      "\n",
      " --------------------\n",
      "traffic_type\n",
      "[ 1  2  6  4  3  7 10]\n",
      "traffic_type: 1 #bookings: 507089\n",
      "traffic_type: 2 #bookings: 172942\n",
      "traffic_type: 6 #bookings: 35121\n",
      "traffic_type: 4 #bookings: 4504\n",
      "traffic_type: 3 #bookings: 42193\n",
      "traffic_type: 7 #bookings: 56\n",
      "traffic_type: 10 #bookings: 404\n",
      "\n",
      " --------------------\n",
      "\n",
      "\n",
      " --------------------\n",
      "action_id\n",
      "[8001 2116 6999 2503 2113 2100 2362 2306 2358 2350 2146 2331 2145 2122\n",
      " 2502 2166 2260 2296 8010 2119 2115 2351 2175 2142 2314 2111 2357 2123\n",
      " 2367 2262 2501 2133 2136 2135 2216 2121 2257 2188 2155 2114 2700 2788\n",
      " 2784 2884 2710 2791 2726 2792 2702 2226 2252 2156 2504 2863 2773 2721\n",
      " 2776 2840 2765 2720 2227 2143 2356 2307 2124 2391 2440 2301 2789 2881\n",
      " 2713 2701 2777 2845 2779 2750 2728 2873 2719 2126 2206 2291 2894 2793\n",
      " 2897 2778 2848 2860 2851 2853 2844 2704 2759 2761 2706 2892 2820 2850\n",
      " 2781 2751 2752 2888 2893 2128 2125 2725 2352 2215 2371 2448 2255 2364\n",
      " 2279 2359 2160 2790 2302 2200 2842 2812 2309 2365 8002 2186 2132 2130\n",
      " 2714 2846 2733 2887 2134 2205 2131 2729 2735 2794 2711 2811 2814 2731\n",
      " 2753 2703 2885 2727 2730 8020 2170 2370 2449 2755 2775 2895 2764 2797\n",
      " 2712 2843 2443 2442 2446 2445 2310 2353 2168 2874 2707 2878 2734 2841\n",
      " 2385 2732 2292 2876 2875 2869 2148 2891 2857 2856 2705 2380 2137 8006\n",
      " 2181 2283 2153 2865 2855 2882 2441 2785 2852 2854 2858 2859 2191   29\n",
      " 2877 2506 2861 2382 2269 2896 2149 2225 2715 2172 2394 2890 2327 8091]\n",
      "action_id: 8001 #bookings: 64959\n",
      "action_id: 2116 #bookings: 21854\n",
      "action_id: 6999 #bookings: 16358\n",
      "action_id: 2503 #bookings: 8554\n",
      "action_id: 2113 #bookings: 75590\n",
      "action_id: 2100 #bookings: 13298\n",
      "action_id: 2362 #bookings: 2277\n",
      "action_id: 2306 #bookings: 13738\n",
      "action_id: 2358 #bookings: 21332\n",
      "action_id: 2350 #bookings: 19212\n",
      "action_id: 2146 #bookings: 16241\n",
      "action_id: 2331 #bookings: 2106\n",
      "action_id: 2145 #bookings: 3686\n",
      "action_id: 2122 #bookings: 3685\n",
      "action_id: 2502 #bookings: 1838\n",
      "action_id: 2166 #bookings: 17169\n",
      "action_id: 2260 #bookings: 524\n",
      "action_id: 2296 #bookings: 4251\n",
      "action_id: 8010 #bookings: 1476\n",
      "action_id: 2119 #bookings: 22189\n",
      "action_id: 2115 #bookings: 17077\n",
      "action_id: 2351 #bookings: 17693\n",
      "action_id: 2175 #bookings: 10288\n",
      "action_id: 2142 #bookings: 173073\n",
      "action_id: 2314 #bookings: 2002\n",
      "action_id: 2111 #bookings: 10874\n",
      "action_id: 2357 #bookings: 9612\n",
      "action_id: 2123 #bookings: 4757\n",
      "action_id: 2367 #bookings: 1134\n",
      "action_id: 2262 #bookings: 1299\n",
      "action_id: 2501 #bookings: 4624\n",
      "action_id: 2133 #bookings: 378\n",
      "action_id: 2136 #bookings: 244\n",
      "action_id: 2135 #bookings: 139\n",
      "action_id: 2216 #bookings: 1774\n",
      "action_id: 2121 #bookings: 5240\n",
      "action_id: 2257 #bookings: 3299\n",
      "action_id: 2188 #bookings: 2243\n",
      "action_id: 2155 #bookings: 12604\n",
      "action_id: 2114 #bookings: 15789\n",
      "action_id: 2700 #bookings: 1001\n",
      "action_id: 2788 #bookings: 915\n",
      "action_id: 2784 #bookings: 1436\n",
      "action_id: 2884 #bookings: 859\n",
      "action_id: 2710 #bookings: 2422\n",
      "action_id: 2791 #bookings: 1098\n",
      "action_id: 2726 #bookings: 448\n",
      "action_id: 2792 #bookings: 3532\n",
      "action_id: 2702 #bookings: 3655\n",
      "action_id: 2226 #bookings: 4497\n",
      "action_id: 2252 #bookings: 4786\n",
      "action_id: 2156 #bookings: 3202\n",
      "action_id: 2504 #bookings: 724\n",
      "action_id: 2863 #bookings: 3363\n",
      "action_id: 2773 #bookings: 6139\n",
      "action_id: 2721 #bookings: 410\n",
      "action_id: 2776 #bookings: 1019\n",
      "action_id: 2840 #bookings: 94\n",
      "action_id: 2765 #bookings: 4247\n",
      "action_id: 2720 #bookings: 993\n",
      "action_id: 2227 #bookings: 1902\n",
      "action_id: 2143 #bookings: 2335\n",
      "action_id: 2356 #bookings: 940\n",
      "action_id: 2307 #bookings: 272\n",
      "action_id: 2124 #bookings: 2715\n",
      "action_id: 2391 #bookings: 1085\n",
      "action_id: 2440 #bookings: 559\n",
      "action_id: 2301 #bookings: 301\n",
      "action_id: 2789 #bookings: 81\n",
      "action_id: 2881 #bookings: 129\n",
      "action_id: 2713 #bookings: 704\n",
      "action_id: 2701 #bookings: 2361\n",
      "action_id: 2777 #bookings: 1311\n",
      "action_id: 2845 #bookings: 482\n",
      "action_id: 2779 #bookings: 113\n",
      "action_id: 2750 #bookings: 202\n",
      "action_id: 2728 #bookings: 437\n",
      "action_id: 2873 #bookings: 1613\n",
      "action_id: 2719 #bookings: 856\n",
      "action_id: 2126 #bookings: 129\n",
      "action_id: 2206 #bookings: 351\n",
      "action_id: 2291 #bookings: 304\n",
      "action_id: 2894 #bookings: 67\n",
      "action_id: 2793 #bookings: 855\n",
      "action_id: 2897 #bookings: 16\n",
      "action_id: 2778 #bookings: 174\n",
      "action_id: 2848 #bookings: 238\n",
      "action_id: 2860 #bookings: 66\n",
      "action_id: 2851 #bookings: 52\n",
      "action_id: 2853 #bookings: 58\n",
      "action_id: 2844 #bookings: 3647\n",
      "action_id: 2704 #bookings: 644\n",
      "action_id: 2759 #bookings: 361\n",
      "action_id: 2761 #bookings: 954\n",
      "action_id: 2706 #bookings: 4323\n",
      "action_id: 2892 #bookings: 120\n",
      "action_id: 2820 #bookings: 547\n",
      "action_id: 2850 #bookings: 179\n",
      "action_id: 2781 #bookings: 195\n",
      "action_id: 2751 #bookings: 363\n",
      "action_id: 2752 #bookings: 225\n",
      "action_id: 2888 #bookings: 83\n",
      "action_id: 2893 #bookings: 64\n",
      "action_id: 2128 #bookings: 426\n",
      "action_id: 2125 #bookings: 859\n",
      "action_id: 2725 #bookings: 447\n",
      "action_id: 2352 #bookings: 107\n",
      "action_id: 2215 #bookings: 1748\n",
      "action_id: 2371 #bookings: 40644\n",
      "action_id: 2448 #bookings: 3308\n",
      "action_id: 2255 #bookings: 503\n",
      "action_id: 2364 #bookings: 280\n",
      "action_id: 2279 #bookings: 225\n",
      "action_id: 2359 #bookings: 227\n",
      "action_id: 2160 #bookings: 3251\n",
      "action_id: 2790 #bookings: 188\n",
      "action_id: 2302 #bookings: 343\n",
      "action_id: 2200 #bookings: 185\n",
      "action_id: 2842 #bookings: 3\n",
      "action_id: 2812 #bookings: 148\n",
      "action_id: 2309 #bookings: 247\n",
      "action_id: 2365 #bookings: 28\n",
      "action_id: 8002 #bookings: 45\n",
      "action_id: 2186 #bookings: 12\n",
      "action_id: 2132 #bookings: 31\n",
      "action_id: 2130 #bookings: 67\n",
      "action_id: 2714 #bookings: 691\n",
      "action_id: 2846 #bookings: 260\n",
      "action_id: 2733 #bookings: 302\n",
      "action_id: 2887 #bookings: 268\n",
      "action_id: 2134 #bookings: 18\n",
      "action_id: 2205 #bookings: 49\n",
      "action_id: 2131 #bookings: 56\n",
      "action_id: 2729 #bookings: 268\n",
      "action_id: 2735 #bookings: 17\n",
      "action_id: 2794 #bookings: 175\n",
      "action_id: 2711 #bookings: 99\n",
      "action_id: 2811 #bookings: 23\n",
      "action_id: 2814 #bookings: 16\n",
      "action_id: 2731 #bookings: 26\n",
      "action_id: 2753 #bookings: 292\n",
      "action_id: 2703 #bookings: 9\n",
      "action_id: 2885 #bookings: 4\n",
      "action_id: 2727 #bookings: 403\n",
      "action_id: 2730 #bookings: 141\n",
      "action_id: 8020 #bookings: 32\n",
      "action_id: 2170 #bookings: 0\n",
      "action_id: 2370 #bookings: 0\n",
      "action_id: 2449 #bookings: 250\n",
      "action_id: 2755 #bookings: 86\n",
      "action_id: 2775 #bookings: 11\n",
      "action_id: 2895 #bookings: 2\n",
      "action_id: 2764 #bookings: 236\n",
      "action_id: 2797 #bookings: 120\n",
      "action_id: 2712 #bookings: 158\n",
      "action_id: 2843 #bookings: 61\n",
      "action_id: 2443 #bookings: 57\n",
      "action_id: 2442 #bookings: 60\n",
      "action_id: 2446 #bookings: 47\n",
      "action_id: 2445 #bookings: 80\n",
      "action_id: 2310 #bookings: 2364\n",
      "action_id: 2353 #bookings: 79\n",
      "action_id: 2168 #bookings: 105\n",
      "action_id: 2874 #bookings: 64\n",
      "action_id: 2707 #bookings: 0\n",
      "action_id: 2878 #bookings: 3\n",
      "action_id: 2734 #bookings: 28\n",
      "action_id: 2841 #bookings: 24\n",
      "action_id: 2385 #bookings: 34\n",
      "action_id: 2732 #bookings: 19\n",
      "action_id: 2292 #bookings: 0\n",
      "action_id: 2876 #bookings: 11\n",
      "action_id: 2875 #bookings: 18\n",
      "action_id: 2869 #bookings: 25\n",
      "action_id: 2148 #bookings: 3\n",
      "action_id: 2891 #bookings: 13\n",
      "action_id: 2857 #bookings: 11\n",
      "action_id: 2856 #bookings: 2\n",
      "action_id: 2705 #bookings: 1\n",
      "action_id: 2380 #bookings: 10\n",
      "action_id: 2137 #bookings: 51\n",
      "action_id: 8006 #bookings: 6\n",
      "action_id: 2181 #bookings: 2\n",
      "action_id: 2283 #bookings: 3\n",
      "action_id: 2153 #bookings: 10\n",
      "action_id: 2865 #bookings: 0\n",
      "action_id: 2855 #bookings: 0\n",
      "action_id: 2882 #bookings: 1\n",
      "action_id: 2441 #bookings: 4\n",
      "action_id: 2785 #bookings: 7\n",
      "action_id: 2852 #bookings: 8\n",
      "action_id: 2854 #bookings: 3\n",
      "action_id: 2858 #bookings: 0\n",
      "action_id: 2859 #bookings: 0\n",
      "action_id: 2191 #bookings: 1\n",
      "action_id: 29 #bookings: 11\n",
      "action_id: 2877 #bookings: 2\n",
      "action_id: 2506 #bookings: 0\n",
      "action_id: 2861 #bookings: 1\n",
      "action_id: 2382 #bookings: 5\n",
      "action_id: 2269 #bookings: 0\n",
      "action_id: 2896 #bookings: 0\n",
      "action_id: 2149 #bookings: 2\n",
      "action_id: 2225 #bookings: 0\n",
      "action_id: 2715 #bookings: 2\n",
      "action_id: 2172 #bookings: 0\n",
      "action_id: 2394 #bookings: 4\n",
      "action_id: 2890 #bookings: 0\n",
      "action_id: 2327 #bookings: 0\n",
      "action_id: 8091 #bookings: 0\n",
      "\n",
      " --------------------\n",
      "\n"
     ]
    }
   ],
   "source": [
    "feature_columns = ['referer_code', 'is_app', 'agent_id', 'traffic_type', 'action_id', 'reference', 'step']\n",
    "\n",
    "for feature_column in feature_columns:\n",
    "    dict_feature_column, feature_column_list = get_nb_bookings_dict(train_user_df, feature_column)\n",
    "    print('\\n --------------------')\n",
    "    print(feature_column)\n",
    "    print(feature_column_list)\n",
    "    for code, nb in dict_feature_column.items():\n",
    "        print('{}: {} #bookings: {}'.format(feature_column, code, nb))\n",
    "    print('\\n --------------------\\n')"
   ]
  },
  {
   "cell_type": "code",
   "execution_count": null,
   "metadata": {},
   "outputs": [],
   "source": [
    "def plot_dict(data_dict):\n",
    "    \"\"\"\n",
    "    plot dictionary\n",
    "    \"\"\"\n",
    "    plt.bar(range(len(data_dict)), list(data_dict.values()), align='center')\n",
    "    plt.xticks(range(len(data_dict)), list(data_dict.keys()))\n",
    "    plt.xticks(rotation=90)\n",
    "    # # for python 2.x:\n",
    "    # plt.bar(range(len(data_dict)), data_dict.values(), align='center')  # python 2.x\n",
    "    # plt.xticks(range(len(data_dict)), data_dict.keys())  # in python 2.x\n",
    "    plt.show()"
   ]
  },
  {
   "cell_type": "code",
   "execution_count": null,
   "metadata": {},
   "outputs": [],
   "source": [
    "dict_referer_code, referer_code_list = get_nb_bookings_dict(train_user_df, 'referer_code')\n",
    "\n",
    "plot_dict(dict_referer_code)"
   ]
  },
  {
   "cell_type": "code",
   "execution_count": null,
   "metadata": {},
   "outputs": [],
   "source": []
  },
  {
   "cell_type": "code",
   "execution_count": null,
   "metadata": {},
   "outputs": [],
   "source": []
  },
  {
   "cell_type": "code",
   "execution_count": null,
   "metadata": {},
   "outputs": [],
   "source": []
  },
  {
   "cell_type": "code",
   "execution_count": null,
   "metadata": {},
   "outputs": [],
   "source": []
  },
  {
   "cell_type": "code",
   "execution_count": null,
   "metadata": {},
   "outputs": [],
   "source": []
  },
  {
   "cell_type": "code",
   "execution_count": null,
   "metadata": {},
   "outputs": [],
   "source": []
  },
  {
   "cell_type": "code",
   "execution_count": null,
   "metadata": {},
   "outputs": [],
   "source": []
  },
  {
   "cell_type": "code",
   "execution_count": null,
   "metadata": {},
   "outputs": [],
   "source": []
  },
  {
   "cell_type": "code",
   "execution_count": null,
   "metadata": {},
   "outputs": [],
   "source": []
  },
  {
   "cell_type": "code",
   "execution_count": null,
   "metadata": {},
   "outputs": [],
   "source": []
  },
  {
   "cell_type": "code",
   "execution_count": null,
   "metadata": {},
   "outputs": [],
   "source": []
  },
  {
   "cell_type": "code",
   "execution_count": null,
   "metadata": {},
   "outputs": [],
   "source": []
  },
  {
   "cell_type": "code",
   "execution_count": null,
   "metadata": {},
   "outputs": [],
   "source": []
  },
  {
   "cell_type": "code",
   "execution_count": null,
   "metadata": {},
   "outputs": [],
   "source": []
  },
  {
   "cell_type": "code",
   "execution_count": null,
   "metadata": {},
   "outputs": [],
   "source": []
  },
  {
   "cell_type": "code",
   "execution_count": null,
   "metadata": {},
   "outputs": [],
   "source": []
  },
  {
   "cell_type": "code",
   "execution_count": null,
   "metadata": {},
   "outputs": [],
   "source": []
  },
  {
   "cell_type": "code",
   "execution_count": null,
   "metadata": {},
   "outputs": [],
   "source": []
  },
  {
   "cell_type": "code",
   "execution_count": null,
   "metadata": {},
   "outputs": [],
   "source": []
  },
  {
   "cell_type": "code",
   "execution_count": null,
   "metadata": {},
   "outputs": [],
   "source": []
  },
  {
   "cell_type": "code",
   "execution_count": null,
   "metadata": {},
   "outputs": [],
   "source": []
  },
  {
   "cell_type": "code",
   "execution_count": null,
   "metadata": {},
   "outputs": [],
   "source": []
  },
  {
   "cell_type": "code",
   "execution_count": null,
   "metadata": {},
   "outputs": [],
   "source": []
  },
  {
   "cell_type": "code",
   "execution_count": null,
   "metadata": {},
   "outputs": [],
   "source": []
  },
  {
   "cell_type": "code",
   "execution_count": null,
   "metadata": {},
   "outputs": [],
   "source": []
  },
  {
   "cell_type": "code",
   "execution_count": null,
   "metadata": {},
   "outputs": [],
   "source": []
  },
  {
   "cell_type": "code",
   "execution_count": null,
   "metadata": {},
   "outputs": [],
   "source": []
  },
  {
   "cell_type": "code",
   "execution_count": null,
   "metadata": {},
   "outputs": [],
   "source": []
  },
  {
   "cell_type": "code",
   "execution_count": null,
   "metadata": {},
   "outputs": [],
   "source": []
  },
  {
   "cell_type": "code",
   "execution_count": null,
   "metadata": {},
   "outputs": [],
   "source": []
  },
  {
   "cell_type": "code",
   "execution_count": null,
   "metadata": {},
   "outputs": [],
   "source": []
  },
  {
   "cell_type": "code",
   "execution_count": null,
   "metadata": {},
   "outputs": [],
   "source": []
  },
  {
   "cell_type": "code",
   "execution_count": null,
   "metadata": {},
   "outputs": [],
   "source": []
  },
  {
   "cell_type": "code",
   "execution_count": null,
   "metadata": {},
   "outputs": [],
   "source": []
  },
  {
   "cell_type": "code",
   "execution_count": null,
   "metadata": {},
   "outputs": [],
   "source": []
  },
  {
   "cell_type": "code",
   "execution_count": null,
   "metadata": {},
   "outputs": [],
   "source": []
  },
  {
   "cell_type": "code",
   "execution_count": null,
   "metadata": {},
   "outputs": [],
   "source": []
  },
  {
   "cell_type": "code",
   "execution_count": null,
   "metadata": {},
   "outputs": [],
   "source": []
  },
  {
   "cell_type": "code",
   "execution_count": null,
   "metadata": {},
   "outputs": [],
   "source": []
  },
  {
   "cell_type": "code",
   "execution_count": null,
   "metadata": {},
   "outputs": [],
   "source": []
  },
  {
   "cell_type": "code",
   "execution_count": null,
   "metadata": {},
   "outputs": [],
   "source": []
  },
  {
   "cell_type": "code",
   "execution_count": null,
   "metadata": {},
   "outputs": [],
   "source": []
  },
  {
   "cell_type": "code",
   "execution_count": null,
   "metadata": {},
   "outputs": [],
   "source": []
  },
  {
   "cell_type": "code",
   "execution_count": null,
   "metadata": {},
   "outputs": [],
   "source": []
  },
  {
   "cell_type": "code",
   "execution_count": null,
   "metadata": {},
   "outputs": [],
   "source": []
  },
  {
   "cell_type": "code",
   "execution_count": null,
   "metadata": {},
   "outputs": [],
   "source": []
  },
  {
   "cell_type": "code",
   "execution_count": null,
   "metadata": {},
   "outputs": [],
   "source": []
  },
  {
   "cell_type": "code",
   "execution_count": null,
   "metadata": {},
   "outputs": [],
   "source": []
  },
  {
   "cell_type": "code",
   "execution_count": null,
   "metadata": {},
   "outputs": [],
   "source": []
  }
 ],
 "metadata": {
  "kernelspec": {
   "display_name": "Python 3",
   "language": "python",
   "name": "python3"
  },
  "language_info": {
   "codemirror_mode": {
    "name": "ipython",
    "version": 3
   },
   "file_extension": ".py",
   "mimetype": "text/x-python",
   "name": "python",
   "nbconvert_exporter": "python",
   "pygments_lexer": "ipython3",
   "version": "3.6.4"
  }
 },
 "nbformat": 4,
 "nbformat_minor": 2
}
