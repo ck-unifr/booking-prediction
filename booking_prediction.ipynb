{
 "cells": [
  {
   "cell_type": "markdown",
   "metadata": {},
   "source": [
    "# Prediction of bookings based on user behavior\n",
    "Data Scientist – User Profiling, Hotel Search\n",
    "\n",
    "- Author: Kai Chen\n",
    "- Date: Apr, 2018"
   ]
  },
  {
   "cell_type": "markdown",
   "metadata": {},
   "source": [
    "There are 3 types of data: Bookings, User actions, Example\n",
    "\n",
    "## Data: Bookings\n",
    "- Description: List of sessions, each with: session-related contextual data, and whether at least one booking was made\n",
    "- Files:\n",
    "\t- case_study_bookings_train.csv: Training sessions for bookings\n",
    "\t- case_study_bookings_target.csv: Target sessions to predict bookings\n",
    "- Rows: Each row represents a session with session context and the outcome of this session\n",
    "- Columns:\n",
    "\t- ymd: Date of the session in format 'yyMMdd'\n",
    "\t- user_id: Anonymized cookie id of the visitor\n",
    "\t- session_id: Anonymized id of the session\n",
    "\t- referer_code: Encoded category of the referer to the website\n",
    "\t- is_app: If the session was made using the trivago app\n",
    "\t- agent_id: Encoded type of the browser\n",
    "\t- traffic_type: A categorization of the type of the traffic\n",
    "\t- has_booking: 1 if at least one booking was made during the session (excluded from the target set)\n",
    "    \n",
    "## Data: User Actions\n",
    "- Description: Sequence of various type of user actions generated during the usage of the website.\n",
    "- Files\n",
    "\t- case_study_actions_train.csv: Training set of user actions\n",
    "\t- case_study_actions_target.csv: User actions in the target sessions\n",
    "- Rows: Each row represents one action from/to the user\n",
    "- Columns:\n",
    "\t- ymd: Date of the action in format 'yyMMdd'\n",
    "\t- user_id: Anonymized cookie id of the visitor\n",
    "\t- session_id: Anonymized id of the session\n",
    "\t- action_id: Type of the action\n",
    "\t- reference: Object of the action. - We note that action_ids with big set of reference values (e.g. action id '2116') are typically related to the content (e.g hotels, destinations or keywords); while action_ids with small reference set (e.g. action id '2351') are more related a function of the website (e.g. sorting order, room type, filters, etc.)\n",
    "\t- step: The number identifying the action in the session\n",
    "\t\n",
    "## Data: Example Solution\n",
    "- Description: List of predictions for bookings in the target sessions\n",
    "- File: case_study_bookings_target_prediction_example.csv\n",
    "- Rows: Each row represent a target session for which a prediction should be given\n",
    "- Columns:\n",
    "\t- session_id: Anonymized id of the session\n",
    "\t- has_booking: Random binary predictions for bookings"
   ]
  },
  {
   "cell_type": "code",
   "execution_count": 1,
   "metadata": {
    "collapsed": true
   },
   "outputs": [],
   "source": [
    "import matplotlib.pyplot as plt\n",
    "import matplotlib.image as mpimg\n",
    "%matplotlib inline\n",
    "\n",
    "import warnings\n",
    "warnings.filterwarnings('ignore')\n",
    "\n",
    "from sklearn.ensemble import RandomForestClassifier, RandomForestRegressor\n",
    "from sklearn.linear_model import LogisticRegression\n",
    "\n",
    "import numpy as np\n",
    "import pandas as pd\n",
    "from datetime import datetime\n",
    "\n",
    "import csv\n",
    "\n",
    "from sklearn.model_selection import train_test_split\n",
    "from sklearn.metrics import matthews_corrcoef\n",
    "from sklearn.model_selection import RandomizedSearchCV, GridSearchCV\n",
    "from sklearn.metrics import roc_auc_score\n",
    "from sklearn.model_selection import StratifiedKFold\n",
    "from sklearn.externals import joblib\n",
    "from sklearn.naive_bayes import GaussianNB\n",
    "from sklearn.naive_bayes import MultinomialNB\n",
    "from sklearn import linear_model\n",
    "\n",
    "import xgboost as xgb\n",
    "from xgboost import XGBClassifier"
   ]
  },
  {
   "cell_type": "code",
   "execution_count": 2,
   "metadata": {
    "collapsed": true
   },
   "outputs": [],
   "source": [
    "# ---\n",
    "# Define file paths\n",
    "TRAIN_BOOKING_FILE_PATH = 'data/case_study_bookings_train.csv'    # training sessions for bookings\n",
    "TARGET_BOOKING_FILE_PATH = 'data/case_study_bookings_target.csv'  # target sessions to predict bookings\n",
    "\n",
    "TRAIN_ACTION_FILE_PATH = 'data/case_study_actions_train.csv'       # training set of user actions\n",
    "TARGET_ACTION_FILE_PATH = 'data/case_study_actions_target.csv'     # user actions in the target sessions"
   ]
  },
  {
   "cell_type": "markdown",
   "metadata": {},
   "source": [
    "## Step 1: read and explore the data"
   ]
  },
  {
   "cell_type": "code",
   "execution_count": 5,
   "metadata": {},
   "outputs": [
    {
     "name": "stdout",
     "output_type": "stream",
     "text": [
      "train booking\n",
      "Index(['ymd', 'user_id', 'session_id', 'referer_code', 'is_app', 'agent_id',\n",
      "       'traffic_type', 'has_booking'],\n",
      "      dtype='object')\n",
      "            user_id    session_id   referer_code         is_app  \\\n",
      "count  3.076770e+05  3.076770e+05  307677.000000  307677.000000   \n",
      "mean   4.622586e+18  4.609514e+18      22.857828       0.073571   \n",
      "std    2.665868e+18  2.662771e+18      40.179017       0.261071   \n",
      "min    3.883091e+14  1.097161e+14       0.000000       0.000000   \n",
      "25%    2.312274e+18  2.303980e+18       0.000000       0.000000   \n",
      "50%    4.635855e+18  4.612005e+18       1.000000       0.000000   \n",
      "75%    6.932941e+18  6.912236e+18      15.000000       0.000000   \n",
      "max    9.223267e+18  9.223359e+18      99.000000       1.000000   \n",
      "\n",
      "            agent_id   traffic_type    has_booking  \n",
      "count  307677.000000  307677.000000  307677.000000  \n",
      "mean        7.424809       2.686174       0.063856  \n",
      "std         3.713358       1.906000       0.244497  \n",
      "min         0.000000       1.000000       0.000000  \n",
      "25%         6.000000       1.000000       0.000000  \n",
      "50%         9.000000       2.000000       0.000000  \n",
      "75%        10.000000       4.000000       0.000000  \n",
      "max        14.000000      10.000000       1.000000  \n"
     ]
    },
    {
     "data": {
      "text/html": [
       "<div>\n",
       "<style>\n",
       "    .dataframe thead tr:only-child th {\n",
       "        text-align: right;\n",
       "    }\n",
       "\n",
       "    .dataframe thead th {\n",
       "        text-align: left;\n",
       "    }\n",
       "\n",
       "    .dataframe tbody tr th {\n",
       "        vertical-align: top;\n",
       "    }\n",
       "</style>\n",
       "<table border=\"1\" class=\"dataframe\">\n",
       "  <thead>\n",
       "    <tr style=\"text-align: right;\">\n",
       "      <th></th>\n",
       "      <th>ymd</th>\n",
       "      <th>user_id</th>\n",
       "      <th>session_id</th>\n",
       "      <th>referer_code</th>\n",
       "      <th>is_app</th>\n",
       "      <th>agent_id</th>\n",
       "      <th>traffic_type</th>\n",
       "      <th>has_booking</th>\n",
       "    </tr>\n",
       "  </thead>\n",
       "  <tbody>\n",
       "    <tr>\n",
       "      <th>0</th>\n",
       "      <td>2017-04-23</td>\n",
       "      <td>388309106223940</td>\n",
       "      <td>3052767322364990735</td>\n",
       "      <td>0</td>\n",
       "      <td>0</td>\n",
       "      <td>2</td>\n",
       "      <td>1</td>\n",
       "      <td>0</td>\n",
       "    </tr>\n",
       "    <tr>\n",
       "      <th>1</th>\n",
       "      <td>2017-04-10</td>\n",
       "      <td>452426828488840</td>\n",
       "      <td>1022778951418899936</td>\n",
       "      <td>0</td>\n",
       "      <td>0</td>\n",
       "      <td>10</td>\n",
       "      <td>2</td>\n",
       "      <td>0</td>\n",
       "    </tr>\n",
       "    <tr>\n",
       "      <th>2</th>\n",
       "      <td>2017-04-15</td>\n",
       "      <td>452426828488840</td>\n",
       "      <td>4191504489082712531</td>\n",
       "      <td>0</td>\n",
       "      <td>0</td>\n",
       "      <td>10</td>\n",
       "      <td>2</td>\n",
       "      <td>0</td>\n",
       "    </tr>\n",
       "    <tr>\n",
       "      <th>3</th>\n",
       "      <td>2017-04-06</td>\n",
       "      <td>819438352219100</td>\n",
       "      <td>4560227804862289210</td>\n",
       "      <td>1</td>\n",
       "      <td>0</td>\n",
       "      <td>1</td>\n",
       "      <td>1</td>\n",
       "      <td>0</td>\n",
       "    </tr>\n",
       "    <tr>\n",
       "      <th>4</th>\n",
       "      <td>2017-04-07</td>\n",
       "      <td>1113732603712480</td>\n",
       "      <td>4115013282086590434</td>\n",
       "      <td>0</td>\n",
       "      <td>0</td>\n",
       "      <td>9</td>\n",
       "      <td>2</td>\n",
       "      <td>0</td>\n",
       "    </tr>\n",
       "  </tbody>\n",
       "</table>\n",
       "</div>"
      ],
      "text/plain": [
       "         ymd           user_id           session_id  referer_code  is_app  \\\n",
       "0 2017-04-23   388309106223940  3052767322364990735             0       0   \n",
       "1 2017-04-10   452426828488840  1022778951418899936             0       0   \n",
       "2 2017-04-15   452426828488840  4191504489082712531             0       0   \n",
       "3 2017-04-06   819438352219100  4560227804862289210             1       0   \n",
       "4 2017-04-07  1113732603712480  4115013282086590434             0       0   \n",
       "\n",
       "   agent_id  traffic_type  has_booking  \n",
       "0         2             1            0  \n",
       "1        10             2            0  \n",
       "2        10             2            0  \n",
       "3         1             1            0  \n",
       "4         9             2            0  "
      ]
     },
     "metadata": {},
     "output_type": "display_data"
    }
   ],
   "source": [
    "\"\"\"\n",
    "train booking data\n",
    "- ymd: Date of the session in format 'yyMMdd'\n",
    "- user_id: Anonymized cookie id of the visitor\n",
    "- session_id: Anonymized id of the session\n",
    "- referer_code: Encoded category of the referer to the website\n",
    "- is_app: If the session was made using the trivago app\n",
    "- agent_id: Encoded type of the browser\n",
    "- traffic_type: A categorization of the type of the traffic\n",
    "- has_booking: 1 if at least one booking was made during the session (excluded from the target set)\n",
    "\"\"\"\n",
    "\n",
    "train_booking_df = pd.read_csv(TRAIN_BOOKING_FILE_PATH, sep='\\t')\n",
    "train_booking_df['ymd'] = pd.to_datetime(train_booking_df['ymd'].astype('str'))\n",
    "\n",
    "print('train booking')\n",
    "print(train_booking_df.columns)\n",
    "print(train_booking_df.describe())\n",
    "display(train_booking_df.head(5))"
   ]
  },
  {
   "cell_type": "code",
   "execution_count": 6,
   "metadata": {},
   "outputs": [
    {
     "name": "stdout",
     "output_type": "stream",
     "text": [
      "target booking\n",
      "Index(['ymd', 'user_id', 'session_id', 'referer_code', 'is_app', 'agent_id',\n",
      "       'traffic_type'],\n",
      "      dtype='object')\n"
     ]
    },
    {
     "data": {
      "text/html": [
       "<div>\n",
       "<style>\n",
       "    .dataframe thead tr:only-child th {\n",
       "        text-align: right;\n",
       "    }\n",
       "\n",
       "    .dataframe thead th {\n",
       "        text-align: left;\n",
       "    }\n",
       "\n",
       "    .dataframe tbody tr th {\n",
       "        vertical-align: top;\n",
       "    }\n",
       "</style>\n",
       "<table border=\"1\" class=\"dataframe\">\n",
       "  <thead>\n",
       "    <tr style=\"text-align: right;\">\n",
       "      <th></th>\n",
       "      <th>ymd</th>\n",
       "      <th>user_id</th>\n",
       "      <th>session_id</th>\n",
       "      <th>referer_code</th>\n",
       "      <th>is_app</th>\n",
       "      <th>agent_id</th>\n",
       "      <th>traffic_type</th>\n",
       "    </tr>\n",
       "  </thead>\n",
       "  <tbody>\n",
       "    <tr>\n",
       "      <th>0</th>\n",
       "      <td>2017-04-30</td>\n",
       "      <td>1607565913119260</td>\n",
       "      <td>4175939893794521966</td>\n",
       "      <td>0</td>\n",
       "      <td>0</td>\n",
       "      <td>14</td>\n",
       "      <td>6</td>\n",
       "    </tr>\n",
       "    <tr>\n",
       "      <th>1</th>\n",
       "      <td>2017-04-30</td>\n",
       "      <td>1607565913119260</td>\n",
       "      <td>9175174925268392332</td>\n",
       "      <td>0</td>\n",
       "      <td>0</td>\n",
       "      <td>14</td>\n",
       "      <td>1</td>\n",
       "    </tr>\n",
       "    <tr>\n",
       "      <th>2</th>\n",
       "      <td>2017-04-30</td>\n",
       "      <td>2669945826129900</td>\n",
       "      <td>5361965966177226983</td>\n",
       "      <td>0</td>\n",
       "      <td>0</td>\n",
       "      <td>6</td>\n",
       "      <td>6</td>\n",
       "    </tr>\n",
       "    <tr>\n",
       "      <th>3</th>\n",
       "      <td>2017-04-30</td>\n",
       "      <td>6247954936827660</td>\n",
       "      <td>7996347049132178025</td>\n",
       "      <td>0</td>\n",
       "      <td>0</td>\n",
       "      <td>13</td>\n",
       "      <td>2</td>\n",
       "    </tr>\n",
       "    <tr>\n",
       "      <th>4</th>\n",
       "      <td>2017-04-30</td>\n",
       "      <td>6447705595982360</td>\n",
       "      <td>6061498713259551906</td>\n",
       "      <td>99</td>\n",
       "      <td>0</td>\n",
       "      <td>1</td>\n",
       "      <td>6</td>\n",
       "    </tr>\n",
       "  </tbody>\n",
       "</table>\n",
       "</div>"
      ],
      "text/plain": [
       "         ymd           user_id           session_id  referer_code  is_app  \\\n",
       "0 2017-04-30  1607565913119260  4175939893794521966             0       0   \n",
       "1 2017-04-30  1607565913119260  9175174925268392332             0       0   \n",
       "2 2017-04-30  2669945826129900  5361965966177226983             0       0   \n",
       "3 2017-04-30  6247954936827660  7996347049132178025             0       0   \n",
       "4 2017-04-30  6447705595982360  6061498713259551906            99       0   \n",
       "\n",
       "   agent_id  traffic_type  \n",
       "0        14             6  \n",
       "1        14             1  \n",
       "2         6             6  \n",
       "3        13             2  \n",
       "4         1             6  "
      ]
     },
     "metadata": {},
     "output_type": "display_data"
    }
   ],
   "source": [
    "\"\"\"\n",
    "target booking data\n",
    "- ymd: Date of the session in format 'yyMMdd'\n",
    "- user_id: Anonymized cookie id of the visitor\n",
    "- session_id: Anonymized id of the session\n",
    "- referer_code: Encoded category of the referer to the website\n",
    "- is_app: If the session was made using the trivago app\n",
    "- agent_id: Encoded type of the browser\n",
    "- traffic_type: A categorization of the type of the traffic\n",
    "\"\"\"\n",
    "\n",
    "target_booking_df = pd.read_csv(TARGET_BOOKING_FILE_PATH, sep='\\t')\n",
    "target_booking_df['ymd'] = pd.to_datetime(target_booking_df['ymd'].astype('str'))\n",
    "\n",
    "print('target booking')\n",
    "print(target_booking_df.columns)\n",
    "display(target_booking_df.head(5))"
   ]
  },
  {
   "cell_type": "code",
   "execution_count": 7,
   "metadata": {},
   "outputs": [
    {
     "name": "stdout",
     "output_type": "stream",
     "text": [
      "number of users (train booking data): 181860\n",
      "number of sessions (tarin booking data): 307677\n",
      "dataframe size (train booking data)\n",
      "(307677, 8)\n"
     ]
    }
   ],
   "source": [
    "# get number of users and sessions in the train booking data\n",
    "\n",
    "train_user_id_list = train_booking_df['user_id'].unique()\n",
    "train_session_id_list = train_booking_df['session_id'].unique()\n",
    "\n",
    "print('number of users (train booking data): {}'.format(len(train_user_id_list)))\n",
    "print('number of sessions (tarin booking data): {}'.format(len(train_session_id_list)))\n",
    "print('dataframe size (train booking data)')\n",
    "print(train_booking_df.shape)"
   ]
  },
  {
   "cell_type": "code",
   "execution_count": 9,
   "metadata": {},
   "outputs": [
    {
     "name": "stdout",
     "output_type": "stream",
     "text": [
      "number of users (target booking data): 23402\n",
      "number of sessions (target booking data): 30128\n",
      "dataframe size (target booking data)\n",
      "(30128, 7)\n"
     ]
    }
   ],
   "source": [
    "# get number of users and sessions in the target booking data\n",
    "\n",
    "target_user_id_list = target_booking_df['user_id'].unique()\n",
    "target_session_id_list = target_booking_df['session_id'].unique()\n",
    "\n",
    "print('number of users (target booking data): {}'.format(len(target_user_id_list)))\n",
    "print('number of sessions (target booking data): {}'.format(len(target_session_id_list)))\n",
    "print('dataframe size (target booking data)')\n",
    "print(target_booking_df.shape)"
   ]
  },
  {
   "cell_type": "code",
   "execution_count": 10,
   "metadata": {},
   "outputs": [
    {
     "name": "stdout",
     "output_type": "stream",
     "text": [
      "train action\n",
      "Index(['ymd', 'user_id', 'session_id', 'action_id', 'reference', 'step'], dtype='object')\n",
      "            user_id    session_id     action_id     reference          step\n",
      "count  5.862863e+06  5.862863e+06  5.862863e+06  5.862863e+06  5.862863e+06\n",
      "mean   4.612543e+18  4.607893e+18  2.813712e+03  4.898678e+05  5.464623e+01\n",
      "std    2.657161e+18  2.656793e+18  1.635718e+03  2.865848e+06  1.319077e+02\n",
      "min    3.883091e+14  1.097161e+14  2.900000e+01 -1.000000e+00  1.000000e+00\n",
      "25%    2.307275e+18  2.310688e+18  2.119000e+03  1.000000e+00  6.000000e+00\n",
      "50%    4.624574e+18  4.606641e+18  2.146000e+03  3.164400e+04  1.800000e+01\n",
      "75%    6.897454e+18  6.892497e+18  2.501000e+03  1.297190e+05  4.800000e+01\n",
      "max    9.223267e+18  9.223359e+18  8.091000e+03  6.814322e+08  3.133000e+03\n"
     ]
    },
    {
     "data": {
      "text/html": [
       "<div>\n",
       "<style>\n",
       "    .dataframe thead tr:only-child th {\n",
       "        text-align: right;\n",
       "    }\n",
       "\n",
       "    .dataframe thead th {\n",
       "        text-align: left;\n",
       "    }\n",
       "\n",
       "    .dataframe tbody tr th {\n",
       "        vertical-align: top;\n",
       "    }\n",
       "</style>\n",
       "<table border=\"1\" class=\"dataframe\">\n",
       "  <thead>\n",
       "    <tr style=\"text-align: right;\">\n",
       "      <th></th>\n",
       "      <th>ymd</th>\n",
       "      <th>user_id</th>\n",
       "      <th>session_id</th>\n",
       "      <th>action_id</th>\n",
       "      <th>reference</th>\n",
       "      <th>step</th>\n",
       "    </tr>\n",
       "  </thead>\n",
       "  <tbody>\n",
       "    <tr>\n",
       "      <th>0</th>\n",
       "      <td>2017-04-23</td>\n",
       "      <td>388309106223940</td>\n",
       "      <td>3052767322364990735</td>\n",
       "      <td>8001</td>\n",
       "      <td>1323836</td>\n",
       "      <td>1</td>\n",
       "    </tr>\n",
       "    <tr>\n",
       "      <th>1</th>\n",
       "      <td>2017-04-10</td>\n",
       "      <td>452426828488840</td>\n",
       "      <td>1022778951418899936</td>\n",
       "      <td>2116</td>\n",
       "      <td>929835</td>\n",
       "      <td>1</td>\n",
       "    </tr>\n",
       "    <tr>\n",
       "      <th>2</th>\n",
       "      <td>2017-04-10</td>\n",
       "      <td>452426828488840</td>\n",
       "      <td>1022778951418899936</td>\n",
       "      <td>6999</td>\n",
       "      <td>0</td>\n",
       "      <td>2</td>\n",
       "    </tr>\n",
       "    <tr>\n",
       "      <th>3</th>\n",
       "      <td>2017-04-10</td>\n",
       "      <td>452426828488840</td>\n",
       "      <td>1022778951418899936</td>\n",
       "      <td>2116</td>\n",
       "      <td>929835</td>\n",
       "      <td>3</td>\n",
       "    </tr>\n",
       "    <tr>\n",
       "      <th>4</th>\n",
       "      <td>2017-04-10</td>\n",
       "      <td>452426828488840</td>\n",
       "      <td>1022778951418899936</td>\n",
       "      <td>2503</td>\n",
       "      <td>1</td>\n",
       "      <td>4</td>\n",
       "    </tr>\n",
       "  </tbody>\n",
       "</table>\n",
       "</div>"
      ],
      "text/plain": [
       "         ymd          user_id           session_id  action_id  reference  step\n",
       "0 2017-04-23  388309106223940  3052767322364990735       8001    1323836     1\n",
       "1 2017-04-10  452426828488840  1022778951418899936       2116     929835     1\n",
       "2 2017-04-10  452426828488840  1022778951418899936       6999          0     2\n",
       "3 2017-04-10  452426828488840  1022778951418899936       2116     929835     3\n",
       "4 2017-04-10  452426828488840  1022778951418899936       2503          1     4"
      ]
     },
     "metadata": {},
     "output_type": "display_data"
    }
   ],
   "source": [
    "\"\"\"\n",
    "train action data\n",
    "- ymd: Date of the action in format 'yyMMdd'\n",
    "- user_id: Anonymized cookie id of the visitor\n",
    "- session_id: Anonymized id of the session\n",
    "- action_id: Type of the action\n",
    "- reference: Object of the action. - We note that action_ids with big set of reference values (e.g. action id '2116') are typically related to the content (e.g hotels, destinations or keywords); while action_ids with small reference set (e.g. action id '2351') are more related a function of the website (e.g. sorting order, room type, filters, etc.)\n",
    "- step: The number identifying the action in the session\n",
    "\"\"\"\n",
    "train_action_df = pd.read_csv(TRAIN_ACTION_FILE_PATH, sep='\\t')\n",
    "train_action_df['ymd'] = pd.to_datetime(train_action_df['ymd'].astype('str'))\n",
    "\n",
    "print('train action')\n",
    "print(train_action_df.columns)\n",
    "print(train_action_df.describe())\n",
    "display(train_action_df.head(5))"
   ]
  },
  {
   "cell_type": "code",
   "execution_count": 11,
   "metadata": {},
   "outputs": [
    {
     "name": "stdout",
     "output_type": "stream",
     "text": [
      "number of users (train action data): 181730\n",
      "number of sessions (train action data): 306106\n",
      "dataframe size (train booking data)\n",
      "(5862863, 6)\n"
     ]
    }
   ],
   "source": [
    "# get number of users and sessions in the action list\n",
    "train_user_id_action_list = train_action_df['user_id'].unique()\n",
    "train_session_id_action_list = train_action_df['session_id'].unique()\n",
    "\n",
    "print('number of users (train action data): {}'.format(len(train_user_id_action_list)))\n",
    "print('number of sessions (train action data): {}'.format(len(train_session_id_action_list)))\n",
    "print('dataframe size (train booking data)')\n",
    "print(train_action_df.shape)"
   ]
  },
  {
   "cell_type": "code",
   "execution_count": 17,
   "metadata": {},
   "outputs": [
    {
     "name": "stdout",
     "output_type": "stream",
     "text": [
      "130\n",
      "0\n"
     ]
    }
   ],
   "source": [
    "print(len(set(train_user_id_list) - set(train_user_id_action_list)))\n",
    "\n",
    "print(len(set(train_user_id_action_list) - set(train_user_id_list)))\n",
    "\n",
    "# all the users who have an action can be found in the booking data\n",
    "# 130 users in the traing data do not have actions"
   ]
  },
  {
   "cell_type": "code",
   "execution_count": 14,
   "metadata": {},
   "outputs": [
    {
     "name": "stdout",
     "output_type": "stream",
     "text": [
      "130\n"
     ]
    }
   ],
   "source": [
    "# get user who does have action information\n",
    "train_user_id_no_action_list = []\n",
    "for user_id in train_user_id_list:\n",
    "    if not user_id in train_user_id_action_list:\n",
    "        train_user_id_no_action_list.append(user_id)\n",
    "    \n",
    "print(len(train_user_id_no_action_list))"
   ]
  },
  {
   "cell_type": "code",
   "execution_count": 16,
   "metadata": {},
   "outputs": [
    {
     "name": "stdout",
     "output_type": "stream",
     "text": [
      "number of users (with action): 181860\n",
      "number of users (without action): 130\n",
      "number of bookings (with action): 19647\n",
      "number of bookings (without action): 103\n",
      "mean number of bookings (with action): 0.1080336522599802\n",
      "mean number of bookings (without action): 0.7923076923076923\n",
      "standard deviation number of bookings (with action): 0.3341389925584934\n",
      "standard deviation number of bookings (without action): 0.829236477788257\n"
     ]
    }
   ],
   "source": [
    "nb_bookings_action = []\n",
    "nb_bookings_no_action = []\n",
    "\n",
    "for user_id in train_user_id_list:\n",
    "    nb_bookings = np.sum(train_booking_df[train_booking_df['user_id'] == user_id]['has_booking'].values)\n",
    "    nb_bookings_action.append(nb_bookings)\n",
    "\n",
    "for user_id in train_user_id_no_action_list:\n",
    "    nb_bookings = np.sum(train_booking_df[train_booking_df['user_id'] == user_id]['has_booking'].values)\n",
    "    nb_bookings_no_action.append(nb_bookings)\n",
    "    \n",
    "    \n",
    "print('number of users (with action): {}'.format(len(train_user_id_list))) \n",
    "print('number of users (without action): {}'.format(len(train_user_id_no_action_list))) \n",
    "print('number of bookings (with action): {}'.format(np.sum(nb_bookings_action)))\n",
    "print('number of bookings (without action): {}'.format(np.sum(nb_bookings_no_action)))\n",
    "print('mean number of bookings (with action): {}'.format(np.mean(nb_bookings_action)))\n",
    "print('mean number of bookings (without action): {}'.format(np.mean(nb_bookings_no_action)))\n",
    "print('standard deviation number of bookings (with action): {}'.format(np.std(nb_bookings_action)))\n",
    "print('standard deviation number of bookings (without action): {}'.format(np.std(nb_bookings_no_action)))\n",
    "        \n",
    "# This shows that users without action are more likely to book a hotel."
   ]
  },
  {
   "cell_type": "code",
   "execution_count": 47,
   "metadata": {},
   "outputs": [
    {
     "name": "stdout",
     "output_type": "stream",
     "text": [
      "action id\n",
      "[8001 2116 6999 2503 2113 2100 2362 2306 2358 2350 2146 2331 2145 2122\n",
      " 2502 2166 2260 2296 8010 2119 2115 2351 2175 2142 2314 2111 2357 2123\n",
      " 2367 2262 2501 2133 2136 2135 2216 2121 2257 2188 2155 2114 2700 2788\n",
      " 2784 2884 2710 2791 2726 2792 2702 2226 2252 2156 2504 2863 2773 2721\n",
      " 2776 2840 2765 2720 2227 2143 2356 2307 2124 2391 2440 2301 2789 2881\n",
      " 2713 2701 2777 2845 2779 2750 2728 2873 2719 2126 2206 2291 2894 2793\n",
      " 2897 2778 2848 2860 2851 2853 2844 2704 2759 2761 2706 2892 2820 2850\n",
      " 2781 2751 2752 2888 2893 2128 2125 2725 2352 2215 2371 2448 2255 2364\n",
      " 2279 2359 2160 2790 2302 2200 2842 2812 2309 2365 8002 2186 2132 2130\n",
      " 2714 2846 2733 2887 2134 2205 2131 2729 2735 2794 2711 2811 2814 2731\n",
      " 2753 2703 2885 2727 2730 8020 2170 2370 2449 2755 2775 2895 2764 2797\n",
      " 2712 2843 2443 2442 2446 2445 2310 2353 2168 2874 2707 2878 2734 2841\n",
      " 2385 2732 2292 2876 2875 2869 2148 2891 2857 2856 2705 2380 2137 8006\n",
      " 2181 2283 2153 2865 2855 2882 2441 2785 2852 2854 2858 2859 2191   29\n",
      " 2877 2506 2861 2382 2269 2896 2149 2225 2715 2172 2394 2890 2327 8091]\n",
      "210\n",
      "min action id: 29\n",
      "max action id: 8091\n",
      "reference id\n",
      "[ 1323836   929835        0 ...     4458     4848 33477474]\n",
      "121528\n",
      "min reference -1\n",
      "max reference 681432202\n",
      "0.021598001934318566\n"
     ]
    }
   ],
   "source": [
    "action_id_list = train_action_df['action_id'].unique()\n",
    "print('action id')\n",
    "print(action_id_list)\n",
    "print(len(action_id_list))\n",
    "min_action_id = np.min(action_id_list)\n",
    "print('min action id: {}'.format(min_action_id))\n",
    "max_action_id = np.max(action_id_list)\n",
    "print('max action id: {}'.format(max_action_id))\n",
    "\n",
    "reference_list = train_action_df['reference'].unique()\n",
    "print('reference id')\n",
    "print(reference_list)\n",
    "print(len(reference_list))\n",
    "min_reference = np.min(reference_list)\n",
    "max_reference = np.max(reference_list)\n",
    "print('min reference {}'.format(min_reference))\n",
    "print('max reference {}'.format(max_reference))\n",
    "\n",
    "corr_score = train_user_df['action_id'].corr(train_user_df['reference'])\n",
    "print(corr_score)"
   ]
  },
  {
   "cell_type": "code",
   "execution_count": 18,
   "metadata": {},
   "outputs": [
    {
     "name": "stdout",
     "output_type": "stream",
     "text": [
      "target action\n",
      "Index(['ymd', 'user_id', 'session_id', 'action_id', 'reference', 'step'], dtype='object')\n",
      "            user_id    session_id      action_id     reference           step\n",
      "count  5.751520e+05  5.751520e+05  575152.000000  5.751520e+05  575152.000000\n",
      "mean   4.620294e+18  4.648837e+18    2796.277468  4.831560e+05      60.934040\n",
      "std    2.669707e+18  2.671616e+18    1600.930226  2.488881e+06     150.311639\n",
      "min    1.607566e+15  2.886847e+14      29.000000 -1.000000e+00       1.000000\n",
      "25%    2.263261e+18  2.313074e+18    2119.000000  1.000000e+00       6.000000\n",
      "50%    4.624574e+18  4.646138e+18    2146.000000  3.146400e+04      18.000000\n",
      "75%    6.952373e+18  7.010441e+18    2503.000000  1.316782e+05      50.000000\n",
      "max    9.223058e+18  9.223352e+18    8020.000000  7.055946e+08    2299.000000\n",
      "         ymd           user_id           session_id  action_id  reference  \\\n",
      "0 2017-04-30  1607565913119260  4175939893794521966       2113      60196   \n",
      "1 2017-04-30  1607565913119260  4175939893794521966       6999          0   \n",
      "2 2017-04-30  1607565913119260  4175939893794521966       2113      60196   \n",
      "3 2017-04-30  1607565913119260  9175174925268392332       2100          0   \n",
      "4 2017-04-30  1607565913119260  9175174925268392332       6999          0   \n",
      "\n",
      "   step  \n",
      "0     1  \n",
      "1     2  \n",
      "2     3  \n",
      "3     1  \n",
      "4     2  \n"
     ]
    }
   ],
   "source": [
    "\"\"\"\n",
    "target action data\n",
    "- ymd: Date of the action in format 'yyMMdd'\n",
    "- user_id: Anonymized cookie id of the visitor\n",
    "- session_id: Anonymized id of the session\n",
    "- action_id: Type of the action\n",
    "- reference: Object of the action. - We note that action_ids with big set of reference values (e.g. action id '2116') are typically related to the content (e.g hotels, destinations or keywords); while action_ids with small reference set (e.g. action id '2351') are more related a function of the website (e.g. sorting order, room type, filters, etc.)\n",
    "- step: The number identifying the action in the session\n",
    "\"\"\"\n",
    "\n",
    "target_action_df = pd.read_csv(TARGET_ACTION_FILE_PATH, sep='\\t')\n",
    "target_action_df['ymd'] = pd.to_datetime(target_action_df['ymd'].astype('str'))\n",
    "\n",
    "print('target action')\n",
    "print(target_action_df.columns)\n",
    "print(target_action_df.describe())\n",
    "print(target_action_df.head(5))"
   ]
  },
  {
   "cell_type": "code",
   "execution_count": 19,
   "metadata": {},
   "outputs": [
    {
     "name": "stdout",
     "output_type": "stream",
     "text": [
      "number of users (target action data): 23314\n",
      "number of sessions (target action data): 29957\n",
      "dataframe size (target booking data)\n",
      "(575152, 6)\n"
     ]
    }
   ],
   "source": [
    "target_user_id_action_list = target_action_df['user_id'].unique()\n",
    "target_session_id_action_list = target_action_df['session_id'].unique()\n",
    "\n",
    "print('number of users (target action data): {}'.format(len(target_user_id_action_list)))\n",
    "print('number of sessions (target action data): {}'.format(len(target_session_id_action_list)))\n",
    "print('dataframe size (target booking data)')\n",
    "print(target_action_df.shape)"
   ]
  },
  {
   "cell_type": "code",
   "execution_count": 63,
   "metadata": {
    "collapsed": true
   },
   "outputs": [],
   "source": [
    "# replace the NAN values by a specific value\n",
    "\n",
    "NA_ACTION_ID = -10\n",
    "NA_REFERENCE_ID = -10\n",
    "NA_STEP = 0"
   ]
  },
  {
   "cell_type": "code",
   "execution_count": 64,
   "metadata": {},
   "outputs": [
    {
     "name": "stdout",
     "output_type": "stream",
     "text": [
      "number of rows where action id is NaN: 1571\n",
      "number of rows where reference is NaN: 1571\n",
      "number of rows where step is NaN: 1571\n",
      "number of rows where action id is NaN: 0\n",
      "number of rows where reference is NaN: 0\n",
      "number of rows where step is NaN: 0\n",
      "Index(['ymd', 'user_id', 'session_id', 'referer_code', 'is_app', 'agent_id',\n",
      "       'traffic_type', 'has_booking', 'action_id', 'reference', 'step'],\n",
      "      dtype='object')\n",
      "            user_id    session_id  referer_code        is_app      agent_id  \\\n",
      "count  5.864434e+06  5.864434e+06  5.864434e+06  5.864434e+06  5.864434e+06   \n",
      "mean   4.612515e+18  4.607873e+18  1.050245e+01  1.247070e-01  7.267086e+00   \n",
      "std    2.657178e+18  2.656793e+18  2.855244e+01  3.303864e-01  3.802190e+00   \n",
      "min    3.883091e+14  1.097161e+14  0.000000e+00  0.000000e+00  0.000000e+00   \n",
      "25%    2.307265e+18  2.310716e+18  0.000000e+00  0.000000e+00  6.000000e+00   \n",
      "50%    4.624574e+18  4.606553e+18  1.000000e+00  0.000000e+00  9.000000e+00   \n",
      "75%    6.897454e+18  6.892477e+18  1.000000e+00  0.000000e+00  1.000000e+01   \n",
      "max    9.223267e+18  9.223359e+18  9.900000e+01  1.000000e+00  1.400000e+01   \n",
      "\n",
      "       traffic_type   has_booking     action_id     reference          step  \n",
      "count  5.864434e+06  5.864434e+06  5.864434e+06  5.864434e+06  5.864434e+06  \n",
      "mean   1.882018e+00  1.301094e-01  2.812956e+03  4.897366e+05  5.463159e+01  \n",
      "std    1.407386e+00  3.364238e-01  1.636151e+03  2.865475e+06  1.318930e+02  \n",
      "min    1.000000e+00  0.000000e+00 -1.000000e+01 -1.000000e+01  0.000000e+00  \n",
      "25%    1.000000e+00  0.000000e+00  2.119000e+03  1.000000e+00  6.000000e+00  \n",
      "50%    1.000000e+00  0.000000e+00  2.146000e+03  3.164400e+04  1.800000e+01  \n",
      "75%    2.000000e+00  0.000000e+00  2.501000e+03  1.296900e+05  4.800000e+01  \n",
      "max    1.000000e+01  1.000000e+00  8.091000e+03  6.814322e+08  3.133000e+03  \n",
      "train user df shape\n",
      "(5864434, 11)\n"
     ]
    },
    {
     "data": {
      "text/html": [
       "<div>\n",
       "<style>\n",
       "    .dataframe thead tr:only-child th {\n",
       "        text-align: right;\n",
       "    }\n",
       "\n",
       "    .dataframe thead th {\n",
       "        text-align: left;\n",
       "    }\n",
       "\n",
       "    .dataframe tbody tr th {\n",
       "        vertical-align: top;\n",
       "    }\n",
       "</style>\n",
       "<table border=\"1\" class=\"dataframe\">\n",
       "  <thead>\n",
       "    <tr style=\"text-align: right;\">\n",
       "      <th></th>\n",
       "      <th>ymd</th>\n",
       "      <th>user_id</th>\n",
       "      <th>session_id</th>\n",
       "      <th>referer_code</th>\n",
       "      <th>is_app</th>\n",
       "      <th>agent_id</th>\n",
       "      <th>traffic_type</th>\n",
       "      <th>has_booking</th>\n",
       "      <th>action_id</th>\n",
       "      <th>reference</th>\n",
       "      <th>step</th>\n",
       "    </tr>\n",
       "  </thead>\n",
       "  <tbody>\n",
       "    <tr>\n",
       "      <th>0</th>\n",
       "      <td>2017-04-23</td>\n",
       "      <td>388309106223940</td>\n",
       "      <td>3052767322364990735</td>\n",
       "      <td>0</td>\n",
       "      <td>0</td>\n",
       "      <td>2</td>\n",
       "      <td>1</td>\n",
       "      <td>0</td>\n",
       "      <td>8001</td>\n",
       "      <td>1323836</td>\n",
       "      <td>1</td>\n",
       "    </tr>\n",
       "    <tr>\n",
       "      <th>1</th>\n",
       "      <td>2017-04-10</td>\n",
       "      <td>452426828488840</td>\n",
       "      <td>1022778951418899936</td>\n",
       "      <td>0</td>\n",
       "      <td>0</td>\n",
       "      <td>10</td>\n",
       "      <td>2</td>\n",
       "      <td>0</td>\n",
       "      <td>2116</td>\n",
       "      <td>929835</td>\n",
       "      <td>1</td>\n",
       "    </tr>\n",
       "    <tr>\n",
       "      <th>2</th>\n",
       "      <td>2017-04-10</td>\n",
       "      <td>452426828488840</td>\n",
       "      <td>1022778951418899936</td>\n",
       "      <td>0</td>\n",
       "      <td>0</td>\n",
       "      <td>10</td>\n",
       "      <td>2</td>\n",
       "      <td>0</td>\n",
       "      <td>6999</td>\n",
       "      <td>0</td>\n",
       "      <td>2</td>\n",
       "    </tr>\n",
       "    <tr>\n",
       "      <th>3</th>\n",
       "      <td>2017-04-10</td>\n",
       "      <td>452426828488840</td>\n",
       "      <td>1022778951418899936</td>\n",
       "      <td>0</td>\n",
       "      <td>0</td>\n",
       "      <td>10</td>\n",
       "      <td>2</td>\n",
       "      <td>0</td>\n",
       "      <td>2116</td>\n",
       "      <td>929835</td>\n",
       "      <td>3</td>\n",
       "    </tr>\n",
       "    <tr>\n",
       "      <th>4</th>\n",
       "      <td>2017-04-10</td>\n",
       "      <td>452426828488840</td>\n",
       "      <td>1022778951418899936</td>\n",
       "      <td>0</td>\n",
       "      <td>0</td>\n",
       "      <td>10</td>\n",
       "      <td>2</td>\n",
       "      <td>0</td>\n",
       "      <td>2503</td>\n",
       "      <td>1</td>\n",
       "      <td>4</td>\n",
       "    </tr>\n",
       "  </tbody>\n",
       "</table>\n",
       "</div>"
      ],
      "text/plain": [
       "         ymd          user_id           session_id  referer_code  is_app  \\\n",
       "0 2017-04-23  388309106223940  3052767322364990735             0       0   \n",
       "1 2017-04-10  452426828488840  1022778951418899936             0       0   \n",
       "2 2017-04-10  452426828488840  1022778951418899936             0       0   \n",
       "3 2017-04-10  452426828488840  1022778951418899936             0       0   \n",
       "4 2017-04-10  452426828488840  1022778951418899936             0       0   \n",
       "\n",
       "   agent_id  traffic_type  has_booking  action_id  reference  step  \n",
       "0         2             1            0       8001    1323836     1  \n",
       "1        10             2            0       2116     929835     1  \n",
       "2        10             2            0       6999          0     2  \n",
       "3        10             2            0       2116     929835     3  \n",
       "4        10             2            0       2503          1     4  "
      ]
     },
     "metadata": {},
     "output_type": "display_data"
    },
    {
     "name": "stdout",
     "output_type": "stream",
     "text": [
      "number of users 181860\n"
     ]
    }
   ],
   "source": [
    "train_user_df =  pd.merge(train_booking_df, train_action_df, on=['ymd', 'user_id', 'session_id'], how='left')\n",
    "\n",
    "print('number of rows where action id is NaN: {}'.format(train_user_df['action_id'].isnull().sum()))\n",
    "print('number of rows where reference is NaN: {}'.format(train_user_df['reference'].isnull().sum()))\n",
    "print('number of rows where step is NaN: {}'.format(train_user_df['step'].isnull().sum()))\n",
    "#print(train_user_df[train_user_df['action_id'].isnull() | train_user_df['reference'].isnull()])\n",
    "\n",
    "train_user_df['action_id'].fillna(NA_ACTION_ID, inplace=True)\n",
    "train_user_df['reference'].fillna(NA_REFERENCE_ID, inplace=True)\n",
    "train_user_df['step'].fillna(NA_STEP, inplace=True)\n",
    "\n",
    "print('number of rows where action id is NaN: {}'.format(train_user_df['action_id'].isnull().sum()))\n",
    "print('number of rows where reference is NaN: {}'.format(train_user_df['reference'].isnull().sum()))\n",
    "print('number of rows where step is NaN: {}'.format(train_user_df['step'].isnull().sum()))\n",
    "#print(train_user_df[train_user_df['action_id'].isnull() | train_user_df['reference'].isnull()])\n",
    "\n",
    "train_user_df['action_id'] = train_user_df['action_id'].astype('int')\n",
    "train_user_df['reference'] = train_user_df['reference'].astype('int')\n",
    "train_user_df['step'] = train_user_df['step'].astype('int')\n",
    "\n",
    "print(train_user_df.columns)\n",
    "print(train_user_df.describe())\n",
    "print('train user df shape')\n",
    "print(train_user_df.shape)\n",
    "display(train_user_df.head(5))\n",
    "print('number of users {}'.format(len(train_user_df['user_id'].unique())))"
   ]
  },
  {
   "cell_type": "code",
   "execution_count": 65,
   "metadata": {},
   "outputs": [
    {
     "name": "stdout",
     "output_type": "stream",
     "text": [
      "ymd (train)\n",
      "['2017-04-23T00:00:00.000000000' '2017-04-10T00:00:00.000000000'\n",
      " '2017-04-15T00:00:00.000000000' '2017-04-06T00:00:00.000000000'\n",
      " '2017-04-07T00:00:00.000000000' '2017-04-19T00:00:00.000000000'\n",
      " '2017-04-16T00:00:00.000000000' '2017-04-17T00:00:00.000000000'\n",
      " '2017-04-04T00:00:00.000000000' '2017-04-13T00:00:00.000000000'\n",
      " '2017-04-08T00:00:00.000000000' '2017-04-25T00:00:00.000000000'\n",
      " '2017-04-09T00:00:00.000000000' '2017-04-12T00:00:00.000000000'\n",
      " '2017-04-03T00:00:00.000000000' '2017-04-24T00:00:00.000000000'\n",
      " '2017-04-27T00:00:00.000000000' '2017-04-26T00:00:00.000000000'\n",
      " '2017-04-02T00:00:00.000000000' '2017-04-14T00:00:00.000000000'\n",
      " '2017-04-05T00:00:00.000000000' '2017-04-22T00:00:00.000000000'\n",
      " '2017-04-20T00:00:00.000000000' '2017-04-11T00:00:00.000000000'\n",
      " '2017-04-18T00:00:00.000000000' '2017-04-21T00:00:00.000000000'\n",
      " '2017-04-01T00:00:00.000000000']\n"
     ]
    }
   ],
   "source": [
    "print('ymd (train)')\n",
    "print(train_user_df['ymd'].unique())"
   ]
  },
  {
   "cell_type": "code",
   "execution_count": 67,
   "metadata": {},
   "outputs": [
    {
     "name": "stdout",
     "output_type": "stream",
     "text": [
      "number of rows where action id (target) is NaN: 171\n",
      "number of rows where reference (target) is NaN: 171\n",
      "number of rows where step is (target) NaN: 171\n",
      "number of rows where action id (target) is NaN: 0\n",
      "number of rows where reference (target) is NaN: 0\n",
      "number of rows where step is (target) NaN: 0\n",
      "Index(['ymd', 'user_id', 'session_id', 'referer_code', 'is_app', 'agent_id',\n",
      "       'traffic_type', 'action_id', 'reference', 'step'],\n",
      "      dtype='object')\n",
      "            user_id    session_id   referer_code         is_app  \\\n",
      "count  5.753230e+05  5.753230e+05  575323.000000  575323.000000   \n",
      "mean   4.620225e+18  4.648770e+18      11.004495       0.135762   \n",
      "std    2.669715e+18  2.671621e+18      29.310329       0.342536   \n",
      "min    1.607566e+15  2.886847e+14       0.000000       0.000000   \n",
      "25%    2.263261e+18  2.313074e+18       0.000000       0.000000   \n",
      "50%    4.624574e+18  4.646138e+18       1.000000       0.000000   \n",
      "75%    6.952373e+18  7.010441e+18       1.000000       0.000000   \n",
      "max    9.223058e+18  9.223352e+18      99.000000       1.000000   \n",
      "\n",
      "            agent_id   traffic_type      action_id     reference  \\\n",
      "count  575323.000000  575323.000000  575323.000000  5.753230e+05   \n",
      "mean        7.536959       1.923716    2795.443374  4.830124e+05   \n",
      "std         3.718679       1.412016    1601.423060  2.488525e+06   \n",
      "min         0.000000       1.000000     -10.000000 -1.000000e+01   \n",
      "25%         6.000000       1.000000    2119.000000  1.000000e+00   \n",
      "50%         9.000000       1.000000    2146.000000  3.146400e+04   \n",
      "75%        10.000000       2.000000    2503.000000  1.316370e+05   \n",
      "max        14.000000      10.000000    8020.000000  7.055946e+08   \n",
      "\n",
      "                step  \n",
      "count  575323.000000  \n",
      "mean       60.915929  \n",
      "std       150.292970  \n",
      "min         0.000000  \n",
      "25%         6.000000  \n",
      "50%        18.000000  \n",
      "75%        50.000000  \n",
      "max      2299.000000  \n",
      "target user df shape\n",
      "(575323, 10)\n"
     ]
    },
    {
     "data": {
      "text/html": [
       "<div>\n",
       "<style>\n",
       "    .dataframe thead tr:only-child th {\n",
       "        text-align: right;\n",
       "    }\n",
       "\n",
       "    .dataframe thead th {\n",
       "        text-align: left;\n",
       "    }\n",
       "\n",
       "    .dataframe tbody tr th {\n",
       "        vertical-align: top;\n",
       "    }\n",
       "</style>\n",
       "<table border=\"1\" class=\"dataframe\">\n",
       "  <thead>\n",
       "    <tr style=\"text-align: right;\">\n",
       "      <th></th>\n",
       "      <th>ymd</th>\n",
       "      <th>user_id</th>\n",
       "      <th>session_id</th>\n",
       "      <th>referer_code</th>\n",
       "      <th>is_app</th>\n",
       "      <th>agent_id</th>\n",
       "      <th>traffic_type</th>\n",
       "      <th>action_id</th>\n",
       "      <th>reference</th>\n",
       "      <th>step</th>\n",
       "    </tr>\n",
       "  </thead>\n",
       "  <tbody>\n",
       "    <tr>\n",
       "      <th>0</th>\n",
       "      <td>2017-04-30</td>\n",
       "      <td>1607565913119260</td>\n",
       "      <td>4175939893794521966</td>\n",
       "      <td>0</td>\n",
       "      <td>0</td>\n",
       "      <td>14</td>\n",
       "      <td>6</td>\n",
       "      <td>2113</td>\n",
       "      <td>60196</td>\n",
       "      <td>1</td>\n",
       "    </tr>\n",
       "    <tr>\n",
       "      <th>1</th>\n",
       "      <td>2017-04-30</td>\n",
       "      <td>1607565913119260</td>\n",
       "      <td>4175939893794521966</td>\n",
       "      <td>0</td>\n",
       "      <td>0</td>\n",
       "      <td>14</td>\n",
       "      <td>6</td>\n",
       "      <td>6999</td>\n",
       "      <td>0</td>\n",
       "      <td>2</td>\n",
       "    </tr>\n",
       "    <tr>\n",
       "      <th>2</th>\n",
       "      <td>2017-04-30</td>\n",
       "      <td>1607565913119260</td>\n",
       "      <td>4175939893794521966</td>\n",
       "      <td>0</td>\n",
       "      <td>0</td>\n",
       "      <td>14</td>\n",
       "      <td>6</td>\n",
       "      <td>2113</td>\n",
       "      <td>60196</td>\n",
       "      <td>3</td>\n",
       "    </tr>\n",
       "    <tr>\n",
       "      <th>3</th>\n",
       "      <td>2017-04-30</td>\n",
       "      <td>1607565913119260</td>\n",
       "      <td>9175174925268392332</td>\n",
       "      <td>0</td>\n",
       "      <td>0</td>\n",
       "      <td>14</td>\n",
       "      <td>1</td>\n",
       "      <td>2100</td>\n",
       "      <td>0</td>\n",
       "      <td>1</td>\n",
       "    </tr>\n",
       "    <tr>\n",
       "      <th>4</th>\n",
       "      <td>2017-04-30</td>\n",
       "      <td>1607565913119260</td>\n",
       "      <td>9175174925268392332</td>\n",
       "      <td>0</td>\n",
       "      <td>0</td>\n",
       "      <td>14</td>\n",
       "      <td>1</td>\n",
       "      <td>6999</td>\n",
       "      <td>0</td>\n",
       "      <td>2</td>\n",
       "    </tr>\n",
       "  </tbody>\n",
       "</table>\n",
       "</div>"
      ],
      "text/plain": [
       "         ymd           user_id           session_id  referer_code  is_app  \\\n",
       "0 2017-04-30  1607565913119260  4175939893794521966             0       0   \n",
       "1 2017-04-30  1607565913119260  4175939893794521966             0       0   \n",
       "2 2017-04-30  1607565913119260  4175939893794521966             0       0   \n",
       "3 2017-04-30  1607565913119260  9175174925268392332             0       0   \n",
       "4 2017-04-30  1607565913119260  9175174925268392332             0       0   \n",
       "\n",
       "   agent_id  traffic_type  action_id  reference  step  \n",
       "0        14             6       2113      60196     1  \n",
       "1        14             6       6999          0     2  \n",
       "2        14             6       2113      60196     3  \n",
       "3        14             1       2100          0     1  \n",
       "4        14             1       6999          0     2  "
      ]
     },
     "metadata": {},
     "output_type": "display_data"
    },
    {
     "name": "stdout",
     "output_type": "stream",
     "text": [
      "number of users (target) 23402\n"
     ]
    }
   ],
   "source": [
    "target_user_df =  pd.merge(target_booking_df, target_action_df, on=['ymd', 'user_id', 'session_id'], how='left')\n",
    "\n",
    "print('number of rows where action id (target) is NaN: {}'.format(target_user_df['action_id'].isnull().sum()))\n",
    "print('number of rows where reference (target) is NaN: {}'.format(target_user_df['reference'].isnull().sum()))\n",
    "print('number of rows where step is (target) NaN: {}'.format(target_user_df['step'].isnull().sum()))\n",
    "#print(target_user_df[train_user_df['action_id'].isnull() | target_user_df['reference'].isnull()])\n",
    "\n",
    "target_user_df['action_id'].fillna(NA_ACTION_ID, inplace=True)\n",
    "target_user_df['reference'].fillna(NA_REFERENCE_ID, inplace=True)\n",
    "target_user_df['step'].fillna(NA_STEP, inplace=True)\n",
    "\n",
    "print('number of rows where action id (target) is NaN: {}'.format(target_user_df['action_id'].isnull().sum()))\n",
    "print('number of rows where reference (target) is NaN: {}'.format(target_user_df['reference'].isnull().sum()))\n",
    "print('number of rows where step is (target) NaN: {}'.format(target_user_df['step'].isnull().sum()))\n",
    "#print(train_user_df[train_user_df['action_id'].isnull() | train_user_df['reference'].isnull()])\n",
    "\n",
    "target_user_df['action_id'] = target_user_df['action_id'].astype('int')\n",
    "target_user_df['reference'] = target_user_df['reference'].astype('int')\n",
    "target_user_df['step'] = target_user_df['step'].astype('int')\n",
    "\n",
    "print(target_user_df.columns)\n",
    "print(target_user_df.describe())\n",
    "print('target user df shape')\n",
    "print(target_user_df.shape)\n",
    "display(target_user_df.head(5))\n",
    "print('number of users (target) {}'.format(len(target_user_df['user_id'].unique())))\n"
   ]
  },
  {
   "cell_type": "code",
   "execution_count": 68,
   "metadata": {},
   "outputs": [
    {
     "name": "stdout",
     "output_type": "stream",
     "text": [
      "ymd (target)\n",
      "['2017-04-30T00:00:00.000000000' '2017-04-28T00:00:00.000000000'\n",
      " '2017-04-29T00:00:00.000000000']\n"
     ]
    }
   ],
   "source": [
    "print('ymd (target)')\n",
    "print(target_user_df['ymd'].unique())"
   ]
  },
  {
   "cell_type": "code",
   "execution_count": 76,
   "metadata": {},
   "outputs": [
    {
     "name": "stdout",
     "output_type": "stream",
     "text": [
      "number of users (train) 181860\n",
      "number of users (target) 23402\n",
      "\n",
      "number of different users between train user id and target user id\n",
      "173798\n",
      "15340\n",
      "number of users in target data can be found in train data 8062\n"
     ]
    }
   ],
   "source": [
    "train_user_id_list = train_user_df['user_id'].unique()\n",
    "\n",
    "print('number of users (train) {}'.format(len(train_user_id_list)))\n",
    "\n",
    "target_user_id_list = target_user_df['user_id'].unique()\n",
    "\n",
    "print('number of users (target) {}'.format(len(target_user_id_list)))\n",
    "\n",
    "\n",
    "print('\\nnumber of different users between train user id and target user id')\n",
    "print(len(set(train_user_id_list) - set(target_user_id_list)))\n",
    "print(len(set(target_user_id_list) - set(train_user_id_list)))\n",
    "\n",
    "intersect_user_id_list = []\n",
    "for user_id in target_user_id_list:\n",
    "    if user_id in train_user_id_list:\n",
    "        intersect_user_id_list.append(user_id)\n",
    "    \n",
    "print('number of users in target data can be found in train data {}'.format(len(intersect_user_id_list)))\n",
    "\n",
    "# Although I find that 8062/23402 users in the target set can be found in the train set, \n",
    "# I am doubt taking 'user_id' as features may overfit the model."
   ]
  },
  {
   "cell_type": "code",
   "execution_count": 78,
   "metadata": {},
   "outputs": [
    {
     "name": "stdout",
     "output_type": "stream",
     "text": [
      "correlation\n",
      "corr score of user_id and has_booking 0.010530781795338581\n",
      "corr score of referer_code and has_booking -0.0500361053699574\n",
      "corr score of is_app and has_booking -0.05041751153650551\n",
      "corr score of agent_id and has_booking -0.10280097418169962\n",
      "corr score of traffic_type and has_booking -0.08016006610302687\n",
      "corr score of action_id and has_booking 0.008116543113345991\n",
      "corr score of reference and has_booking 0.00579133887101014\n",
      "corr score of step and has_booking 0.08525424479513023\n"
     ]
    }
   ],
   "source": [
    "print('correlation')\n",
    "\n",
    "corr_score = train_user_df['user_id'].corr(train_user_df['has_booking'])\n",
    "print('corr score of user_id and has_booking {}'.format(corr_score))\n",
    "\n",
    "corr_score = train_user_df['referer_code'].corr(train_user_df['has_booking'])\n",
    "print('corr score of referer_code and has_booking {}'.format(corr_score))\n",
    "\n",
    "corr_score = train_user_df['is_app'].corr(train_user_df['has_booking'])\n",
    "print('corr score of is_app and has_booking {}'.format(corr_score))\n",
    "\n",
    "corr_score = train_user_df['agent_id'].corr(train_user_df['has_booking'])\n",
    "print('corr score of agent_id and has_booking {}'.format(corr_score))\n",
    "\n",
    "corr_score = train_user_df['traffic_type'].corr(train_user_df['has_booking'])\n",
    "print('corr score of traffic_type and has_booking {}'.format(corr_score))\n",
    "\n",
    "corr_score = train_user_df['action_id'].corr(train_user_df['has_booking'])\n",
    "print('corr score of action_id and has_booking {}'.format(corr_score))\n",
    "\n",
    "corr_score = train_user_df['reference'].corr(train_user_df['has_booking'])\n",
    "print('corr score of reference and has_booking {}'.format(corr_score))\n",
    "\n",
    "corr_score = train_user_df['step'].corr(train_user_df['has_booking'])\n",
    "print('corr score of step and has_booking {}'.format(corr_score))"
   ]
  },
  {
   "cell_type": "code",
   "execution_count": 81,
   "metadata": {
    "collapsed": true
   },
   "outputs": [],
   "source": [
    "def get_nb_bookings_dict(df, column_name, has_booking_name='has_booking'):\n",
    "    # key: feature value  value: number of bookings\n",
    "    dict_nb_bookings = dict()\n",
    "    col_list = df[column_name].unique()\n",
    "    # print(column_name)\n",
    "    # print(col_list)\n",
    "    for value in col_list:\n",
    "        values = df[train_user_df[column_name] == value][has_booking_name].values\n",
    "        dict_nb_bookings[value] = sum(values)\n",
    "\n",
    "    return dict_nb_bookings"
   ]
  },
  {
   "cell_type": "code",
   "execution_count": 82,
   "metadata": {
    "collapsed": true
   },
   "outputs": [],
   "source": [
    "def save_dict_to_csv(data_dict, csv_path):\n",
    "    w = csv.writer(open(csv_path, \"w\"))\n",
    "    for key, val in data_dict.items():\n",
    "        w.writerow([key, val])\n",
    "\n",
    "def read_dict_from_csv(csv_path):\n",
    "    reader = csv.reader(open(csv_path))\n",
    "    result = {}\n",
    "    for row in reader:\n",
    "        key = row[0]\n",
    "        result[key] = row[1:]\n",
    "    return result"
   ]
  },
  {
   "cell_type": "code",
   "execution_count": 83,
   "metadata": {},
   "outputs": [
    {
     "name": "stdout",
     "output_type": "stream",
     "text": [
      "\n",
      " --------------------\n",
      "referer_code\n",
      "[ 0  1 99 15 11 10 24 21 23 17 19]\n",
      "referer_code, nb bookings\n",
      "0, 309364\n",
      "1, 366608\n",
      "99, 43789\n",
      "15, 1297\n",
      "11, 29141\n",
      "10, 10611\n",
      "24, 0\n",
      "21, 1785\n",
      "23, 402\n",
      "17, 21\n",
      "19, 0\n",
      "\n",
      " --------------------\n",
      "\n"
     ]
    },
    {
     "ename": "NameError",
     "evalue": "name 'data_dict' is not defined",
     "output_type": "error",
     "traceback": [
      "\u001b[0;31m---------------------------------------------------------------------------\u001b[0m",
      "\u001b[0;31mNameError\u001b[0m                                 Traceback (most recent call last)",
      "\u001b[0;32m<ipython-input-83-a0b2f38984cd>\u001b[0m in \u001b[0;36m<module>\u001b[0;34m()\u001b[0m\n\u001b[1;32m     22\u001b[0m     \u001b[0;31m# save the dictionary\u001b[0m\u001b[0;34m\u001b[0m\u001b[0;34m\u001b[0m\u001b[0m\n\u001b[1;32m     23\u001b[0m     \u001b[0mcsv_path\u001b[0m \u001b[0;34m=\u001b[0m \u001b[0;34m'{}-nb_bookings.csv'\u001b[0m\u001b[0;34m.\u001b[0m\u001b[0mformat\u001b[0m\u001b[0;34m(\u001b[0m\u001b[0mfeature_column\u001b[0m\u001b[0;34m)\u001b[0m\u001b[0;34m\u001b[0m\u001b[0m\n\u001b[0;32m---> 24\u001b[0;31m     \u001b[0msave_dict_to_csv\u001b[0m\u001b[0;34m(\u001b[0m\u001b[0mdata_dict\u001b[0m\u001b[0;34m,\u001b[0m \u001b[0mcsv_path\u001b[0m\u001b[0;34m)\u001b[0m\u001b[0;34m\u001b[0m\u001b[0m\n\u001b[0m\u001b[1;32m     25\u001b[0m     \u001b[0mprint\u001b[0m\u001b[0;34m(\u001b[0m\u001b[0;34m'save dictionary to {}'\u001b[0m\u001b[0;34m.\u001b[0m\u001b[0mformat\u001b[0m\u001b[0;34m(\u001b[0m\u001b[0mcsv_path\u001b[0m\u001b[0;34m)\u001b[0m\u001b[0;34m)\u001b[0m\u001b[0;34m\u001b[0m\u001b[0m\n\u001b[1;32m     26\u001b[0m \u001b[0;34m\u001b[0m\u001b[0m\n",
      "\u001b[0;31mNameError\u001b[0m: name 'data_dict' is not defined"
     ]
    }
   ],
   "source": [
    "# Although I find that 8062/23402 users in the target set can be found in the train set, \n",
    "# I am doubt taking 'user_id' as features overfits the model.\n",
    "feature_columns = ['referer_code', 'is_app', 'agent_id', 'traffic_type', 'action_id', 'reference', 'step']\n",
    "\n",
    "dict_feature_nb_bookings = dict()\n",
    "\n",
    "for feature_column in feature_columns:\n",
    "    dict_feature_column = get_nb_bookings_dict(train_user_df, feature_column)\n",
    "    dict_feature_nb_bookings[feature_column] = dict_feature_column\n",
    "    \n",
    "    print('\\n --------------------')\n",
    "    print(feature_column)\n",
    "    print(dict_feature_nb_bookings[feature_column].keys())\n",
    "    print('{}, {}'.format(feature_column, 'nb bookings'))\n",
    "    for key, value in dict_feature_column.items():\n",
    "        print('{}, {}'.format(key, value))\n",
    "    print('\\n --------------------\\n')\n",
    "    \n",
    "    # save the dictionary\n",
    "    csv_path = '{}-nb_bookings.csv'.format(feature_column)\n",
    "    save_dict_to_csv(data_dict, csv_path)\n",
    "    print('save dictionary to {}'.format(csv_path))\n",
    "    "
   ]
  },
  {
   "cell_type": "code",
   "execution_count": 39,
   "metadata": {
    "collapsed": true
   },
   "outputs": [],
   "source": [
    "def plot_dict(data_dict, title, xlabel, ylabel):\n",
    "    \"\"\"\n",
    "    plot dictionary\n",
    "    \"\"\"\n",
    "    plt.bar(range(len(data_dict)), list(data_dict.values()), align='center')\n",
    "    plt.xticks(range(len(data_dict)), list(data_dict.keys()))\n",
    "    plt.xticks(rotation=90)\n",
    "    plt.title(title)\n",
    "    plt.xlabel(xlabel)\n",
    "    plt.ylabel(ylabel)\n",
    "    # # for python 2.x:\n",
    "    # plt.bar(range(len(data_dict)), data_dict.values(), align='center')  # python 2.x\n",
    "    # plt.xticks(range(len(data_dict)), data_dict.keys())  # in python 2.x\n",
    "    plt.show()"
   ]
  },
  {
   "cell_type": "code",
   "execution_count": 42,
   "metadata": {},
   "outputs": [
    {
     "data": {
      "image/png": "[encoded data removed]",
      "text/plain": [
       "<matplotlib.figure.Figure at 0x7f8b4320ae10>"
      ]
     },
     "metadata": {},
     "output_type": "display_data"
    }
   ],
   "source": [
    "# referer_code\n",
    "# dict_referer_code, referer_code_list = get_nb_bookings_dict(train_user_df, 'referer_code')\n",
    "dict_referer_code = read_dict_from_csv('referer_code-nb_bookins.csv')\n",
    "referer_code_list = list(dict_referer_code.keys())\n",
    "\n",
    "plot_dict(dict_referer_code, 'referer_code', 'referer_code', 'nb bookings')\n",
    "\n",
    "#plot_dict(dict_feature_nb_bookings['referer_code'], 'referer_code', 'referer_code', 'nb bookings')"
   ]
  },
  {
   "cell_type": "code",
   "execution_count": 43,
   "metadata": {},
   "outputs": [
    {
     "data": {
      "image/png": "[encoded data removed]",
      "text/plain": [
       "<matplotlib.figure.Figure at 0x7f8b430f04a8>"
      ]
     },
     "metadata": {},
     "output_type": "display_data"
    }
   ],
   "source": [
    "plot_dict(dict_feature_nb_bookings['is_app'], 'is_app', 'is_app', 'nb bookings')"
   ]
  },
  {
   "cell_type": "code",
   "execution_count": 44,
   "metadata": {},
   "outputs": [
    {
     "data": {
      "image/png": "[encoded data removed]",
      "text/plain": [
       "<matplotlib.figure.Figure at 0x7f8b42c937f0>"
      ]
     },
     "metadata": {},
     "output_type": "display_data"
    }
   ],
   "source": [
    "plot_dict(dict_feature_nb_bookings['agent_id'], 'agent_id', 'agent_id', 'nb bookings')"
   ]
  },
  {
   "cell_type": "code",
   "execution_count": 45,
   "metadata": {},
   "outputs": [
    {
     "data": {
      "image/png": "[encoded data removed]",
      "text/plain": [
       "<matplotlib.figure.Figure at 0x7f8b431282b0>"
      ]
     },
     "metadata": {},
     "output_type": "display_data"
    }
   ],
   "source": [
    "plot_dict(dict_feature_nb_bookings['traffic_type'], 'traffic_type', 'traffic_type', 'nb bookings')"
   ]
  },
  {
   "cell_type": "code",
   "execution_count": 46,
   "metadata": {},
   "outputs": [
    {
     "data": {
      "image/png": "[encoded data removed]",
      "text/plain": [
       "<matplotlib.figure.Figure at 0x7f8b4315e4e0>"
      ]
     },
     "metadata": {},
     "output_type": "display_data"
    }
   ],
   "source": [
    "plot_dict(dict_feature_nb_bookings['action_id'], 'action_id', 'action_id', 'nb bookings')"
   ]
  },
  {
   "cell_type": "code",
   "execution_count": null,
   "metadata": {
    "collapsed": true
   },
   "outputs": [],
   "source": [
    "plot_dict(dict_feature_nb_bookings['reference'], 'reference', 'reference', 'nb bookings')\n",
    "\n",
    "for key, value in dict_feature_nb_bookings['reference'].items():\n",
    "    print('{} {}'.format(key, value))"
   ]
  },
  {
   "cell_type": "code",
   "execution_count": null,
   "metadata": {
    "collapsed": true
   },
   "outputs": [],
   "source": [
    "plot_dict(dict_feature_nb_bookings['step'], 'step', 'step', 'nb bookings')\n",
    "\n",
    "for key, value in dict_feature_nb_bookings['step'].items():\n",
    "    print('{} {}'.format(key, value))"
   ]
  },
  {
   "cell_type": "code",
   "execution_count": null,
   "metadata": {
    "collapsed": true
   },
   "outputs": [],
   "source": []
  },
  {
   "cell_type": "code",
   "execution_count": null,
   "metadata": {
    "collapsed": true
   },
   "outputs": [],
   "source": []
  },
  {
   "cell_type": "code",
   "execution_count": null,
   "metadata": {
    "collapsed": true
   },
   "outputs": [],
   "source": []
  },
  {
   "cell_type": "code",
   "execution_count": null,
   "metadata": {
    "collapsed": true
   },
   "outputs": [],
   "source": []
  },
  {
   "cell_type": "code",
   "execution_count": null,
   "metadata": {
    "collapsed": true
   },
   "outputs": [],
   "source": []
  },
  {
   "cell_type": "code",
   "execution_count": null,
   "metadata": {
    "collapsed": true
   },
   "outputs": [],
   "source": []
  },
  {
   "cell_type": "code",
   "execution_count": null,
   "metadata": {
    "collapsed": true
   },
   "outputs": [],
   "source": []
  },
  {
   "cell_type": "code",
   "execution_count": null,
   "metadata": {
    "collapsed": true
   },
   "outputs": [],
   "source": []
  },
  {
   "cell_type": "code",
   "execution_count": null,
   "metadata": {
    "collapsed": true
   },
   "outputs": [],
   "source": []
  },
  {
   "cell_type": "code",
   "execution_count": null,
   "metadata": {
    "collapsed": true
   },
   "outputs": [],
   "source": []
  },
  {
   "cell_type": "code",
   "execution_count": null,
   "metadata": {
    "collapsed": true
   },
   "outputs": [],
   "source": []
  },
  {
   "cell_type": "code",
   "execution_count": null,
   "metadata": {
    "collapsed": true
   },
   "outputs": [],
   "source": []
  },
  {
   "cell_type": "code",
   "execution_count": null,
   "metadata": {
    "collapsed": true
   },
   "outputs": [],
   "source": []
  },
  {
   "cell_type": "code",
   "execution_count": null,
   "metadata": {
    "collapsed": true
   },
   "outputs": [],
   "source": []
  },
  {
   "cell_type": "code",
   "execution_count": null,
   "metadata": {
    "collapsed": true
   },
   "outputs": [],
   "source": []
  },
  {
   "cell_type": "code",
   "execution_count": null,
   "metadata": {
    "collapsed": true
   },
   "outputs": [],
   "source": []
  },
  {
   "cell_type": "code",
   "execution_count": null,
   "metadata": {
    "collapsed": true
   },
   "outputs": [],
   "source": []
  },
  {
   "cell_type": "code",
   "execution_count": null,
   "metadata": {
    "collapsed": true
   },
   "outputs": [],
   "source": []
  },
  {
   "cell_type": "code",
   "execution_count": null,
   "metadata": {
    "collapsed": true
   },
   "outputs": [],
   "source": []
  },
  {
   "cell_type": "code",
   "execution_count": null,
   "metadata": {
    "collapsed": true
   },
   "outputs": [],
   "source": []
  },
  {
   "cell_type": "code",
   "execution_count": null,
   "metadata": {
    "collapsed": true
   },
   "outputs": [],
   "source": []
  },
  {
   "cell_type": "code",
   "execution_count": null,
   "metadata": {
    "collapsed": true
   },
   "outputs": [],
   "source": []
  },
  {
   "cell_type": "code",
   "execution_count": null,
   "metadata": {
    "collapsed": true
   },
   "outputs": [],
   "source": []
  },
  {
   "cell_type": "code",
   "execution_count": null,
   "metadata": {
    "collapsed": true
   },
   "outputs": [],
   "source": []
  },
  {
   "cell_type": "code",
   "execution_count": null,
   "metadata": {
    "collapsed": true
   },
   "outputs": [],
   "source": []
  },
  {
   "cell_type": "code",
   "execution_count": null,
   "metadata": {
    "collapsed": true
   },
   "outputs": [],
   "source": []
  },
  {
   "cell_type": "code",
   "execution_count": null,
   "metadata": {
    "collapsed": true
   },
   "outputs": [],
   "source": []
  },
  {
   "cell_type": "code",
   "execution_count": null,
   "metadata": {
    "collapsed": true
   },
   "outputs": [],
   "source": []
  },
  {
   "cell_type": "code",
   "execution_count": null,
   "metadata": {
    "collapsed": true
   },
   "outputs": [],
   "source": []
  },
  {
   "cell_type": "code",
   "execution_count": null,
   "metadata": {
    "collapsed": true
   },
   "outputs": [],
   "source": []
  },
  {
   "cell_type": "code",
   "execution_count": null,
   "metadata": {
    "collapsed": true
   },
   "outputs": [],
   "source": []
  },
  {
   "cell_type": "code",
   "execution_count": null,
   "metadata": {
    "collapsed": true
   },
   "outputs": [],
   "source": []
  },
  {
   "cell_type": "code",
   "execution_count": null,
   "metadata": {
    "collapsed": true
   },
   "outputs": [],
   "source": []
  },
  {
   "cell_type": "code",
   "execution_count": null,
   "metadata": {
    "collapsed": true
   },
   "outputs": [],
   "source": []
  },
  {
   "cell_type": "code",
   "execution_count": null,
   "metadata": {
    "collapsed": true
   },
   "outputs": [],
   "source": []
  },
  {
   "cell_type": "code",
   "execution_count": null,
   "metadata": {
    "collapsed": true
   },
   "outputs": [],
   "source": []
  },
  {
   "cell_type": "code",
   "execution_count": null,
   "metadata": {
    "collapsed": true
   },
   "outputs": [],
   "source": []
  },
  {
   "cell_type": "code",
   "execution_count": null,
   "metadata": {
    "collapsed": true
   },
   "outputs": [],
   "source": []
  },
  {
   "cell_type": "code",
   "execution_count": null,
   "metadata": {
    "collapsed": true
   },
   "outputs": [],
   "source": []
  },
  {
   "cell_type": "code",
   "execution_count": null,
   "metadata": {
    "collapsed": true
   },
   "outputs": [],
   "source": []
  },
  {
   "cell_type": "code",
   "execution_count": null,
   "metadata": {
    "collapsed": true
   },
   "outputs": [],
   "source": []
  },
  {
   "cell_type": "code",
   "execution_count": null,
   "metadata": {
    "collapsed": true
   },
   "outputs": [],
   "source": []
  },
  {
   "cell_type": "code",
   "execution_count": null,
   "metadata": {
    "collapsed": true
   },
   "outputs": [],
   "source": []
  }
 ],
 "metadata": {
  "kernelspec": {
   "display_name": "Python 3",
   "language": "python",
   "name": "python3"
  },
  "language_info": {
   "codemirror_mode": {
    "name": "ipython",
    "version": 3
   },
   "file_extension": ".py",
   "mimetype": "text/x-python",
   "name": "python",
   "nbconvert_exporter": "python",
   "pygments_lexer": "ipython3",
   "version": "3.6.2"
  }
 },
 "nbformat": 4,
 "nbformat_minor": 2
}
