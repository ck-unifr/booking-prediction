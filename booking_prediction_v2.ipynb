{
 "cells": [
  {
   "cell_type": "markdown",
   "metadata": {},
   "source": [
    "# Prediction of bookings based on user behavior\n",
    "Data Scientist – User Profiling, Hotel Search\n",
    "\n",
    "- Author: Kai Chen\n",
    "- Date:   Apr, 2018"
   ]
  },
  {
   "cell_type": "code",
   "execution_count": 1,
   "metadata": {},
   "outputs": [],
   "source": [
    "import matplotlib.pyplot as plt\n",
    "import matplotlib.image as mpimg\n",
    "%matplotlib inline\n",
    "\n",
    "import warnings\n",
    "warnings.filterwarnings('ignore')\n",
    "warnings.simplefilter(\"ignore\", DeprecationWarning)\n",
    "\n",
    "import numpy as np\n",
    "import pandas as pd\n",
    "from datetime import datetime\n",
    "import operator\n",
    "from collections import OrderedDict\n",
    "import time\n",
    "import csv\n",
    "import gc\n",
    "from multiprocessing import Pool\n",
    "\n",
    "from sklearn.ensemble import RandomForestClassifier, RandomForestRegressor\n",
    "from sklearn.linear_model import LogisticRegression\n",
    "from sklearn.model_selection import train_test_split\n",
    "from sklearn.metrics import matthews_corrcoef, classification_report, confusion_matrix, f1_score\n",
    "from sklearn.model_selection import RandomizedSearchCV, GridSearchCV\n",
    "from sklearn.metrics import roc_auc_score\n",
    "from sklearn.model_selection import StratifiedKFold\n",
    "from sklearn.externals import joblib\n",
    "from sklearn.naive_bayes import GaussianNB\n",
    "from sklearn.naive_bayes import MultinomialNB\n",
    "from sklearn import linear_model\n",
    "from sklearn.metrics import accuracy_score\n",
    "\n",
    "import xgboost as xgb\n",
    "from xgboost import XGBClassifier\n",
    "\n",
    "import lightgbm as lgb\n",
    "\n",
    "import catboost\n",
    "from catboost import CatBoostClassifier\n",
    "\n",
    "np.random.seed(42)"
   ]
  },
  {
   "cell_type": "code",
   "execution_count": 4,
   "metadata": {},
   "outputs": [
    {
     "name": "stdout",
     "output_type": "stream",
     "text": [
      "            user_id    session_id  referer_code        is_app      agent_id  \\\n",
      "count  5.864434e+06  5.864434e+06  5.864434e+06  5.864434e+06  5.864434e+06   \n",
      "mean   4.612515e+18  4.607873e+18  1.050245e+01  1.247070e-01  7.267086e+00   \n",
      "std    2.657178e+18  2.656793e+18  2.855244e+01  3.303864e-01  3.802190e+00   \n",
      "min    3.883091e+14  1.097161e+14  0.000000e+00  0.000000e+00  0.000000e+00   \n",
      "25%    2.307265e+18  2.310716e+18  0.000000e+00  0.000000e+00  6.000000e+00   \n",
      "50%    4.624574e+18  4.606553e+18  1.000000e+00  0.000000e+00  9.000000e+00   \n",
      "75%    6.897454e+18  6.892477e+18  1.000000e+00  0.000000e+00  1.000000e+01   \n",
      "max    9.223267e+18  9.223359e+18  9.900000e+01  1.000000e+00  1.400000e+01   \n",
      "\n",
      "       traffic_type   has_booking     action_id     reference          step  \n",
      "count  5.864434e+06  5.864434e+06  5.864434e+06  5.864434e+06  5.864434e+06  \n",
      "mean   1.882018e+00  1.301094e-01  2.812956e+03  4.897366e+05  5.463159e+01  \n",
      "std    1.407386e+00  3.364238e-01  1.636151e+03  2.865475e+06  1.318930e+02  \n",
      "min    1.000000e+00  0.000000e+00 -1.000000e+01 -1.000000e+01  0.000000e+00  \n",
      "25%    1.000000e+00  0.000000e+00  2.119000e+03  1.000000e+00  6.000000e+00  \n",
      "50%    1.000000e+00  0.000000e+00  2.146000e+03  3.164400e+04  1.800000e+01  \n",
      "75%    2.000000e+00  0.000000e+00  2.501000e+03  1.296900e+05  4.800000e+01  \n",
      "max    1.000000e+01  1.000000e+00  8.091000e+03  6.814322e+08  3.133000e+03  \n",
      "          ymd          user_id           session_id  referer_code  is_app  \\\n",
      "0  2017-04-23  388309106223940  3052767322364990735             0       0   \n",
      "1  2017-04-10  452426828488840  1022778951418899936             0       0   \n",
      "2  2017-04-10  452426828488840  1022778951418899936             0       0   \n",
      "\n",
      "   agent_id  traffic_type  has_booking  action_id  reference  step  \n",
      "0         2             1            0       8001    1323836     1  \n",
      "1        10             2            0       2116     929835     1  \n",
      "2        10             2            0       6999          0     2  \n"
     ]
    }
   ],
   "source": [
    "train_user_df = pd.read_csv('train_user_df.csv')\n",
    "print(train_user_df.describe())\n",
    "print(train_user_df.head(3))\n",
    "\n",
    "target_user_df = pd.read_csv('target_user_df.csv')\n"
   ]
  },
  {
   "cell_type": "code",
   "execution_count": 10,
   "metadata": {},
   "outputs": [],
   "source": [
    "for name, group in train_user_df.groupby('session_id'):\n",
    "    nb_bookings = group[group['has_booking'] == 1].shape[0]\n",
    "    if (nb_bookings > 0 and nb_bookings != group.shape[0] and np.max(group['step']) != group.shape[0]):\n",
    "        print(group)"
   ]
  },
  {
   "cell_type": "code",
   "execution_count": 11,
   "metadata": {},
   "outputs": [
    {
     "name": "stdout",
     "output_type": "stream",
     "text": [
      "211\n",
      "121529\n"
     ]
    }
   ],
   "source": [
    "action_id_list = list(train_user_df.action_id.unique())\n",
    "print(len(action_id_list))\n",
    "\n",
    "reference_list = list(train_user_df.reference.unique())\n",
    "print(len(reference_list))"
   ]
  },
  {
   "cell_type": "code",
   "execution_count": 13,
   "metadata": {},
   "outputs": [
    {
     "name": "stdout",
     "output_type": "stream",
     "text": [
      "min nb steps: 1\n",
      "max nb steps: 2924\n",
      "std nb steps: 70.27699664977659\n"
     ]
    }
   ],
   "source": [
    "nb_steps_booking_list = []\n",
    "\n",
    "for name, group in train_user_df.groupby('session_id'):\n",
    "    nb_bookings = group[group['has_booking'] == 1].shape[0]\n",
    "    if (nb_bookings > 0):\n",
    "        nb_steps_booking_list.append(group.shape[0])\n",
    "\n",
    "print('min nb steps: {}'.format(np.min(nb_steps_booking_list)))\n",
    "print('max nb steps: {}'.format(np.max(nb_steps_booking_list)))\n",
    "print('std nb steps: {}'.format(np.std(nb_steps_booking_list)))"
   ]
  },
  {
   "cell_type": "code",
   "execution_count": 14,
   "metadata": {},
   "outputs": [
    {
     "name": "stdout",
     "output_type": "stream",
     "text": [
      "[]\n"
     ]
    }
   ],
   "source": [
    "# Is there a common action_id in the sessions with bookings?\n",
    "def intersection(lst1, lst2):\n",
    "    lst3 = [value for value in lst1 if value in lst2]\n",
    "    return lst3\n",
    "\n",
    "inter_actions = []\n",
    "\n",
    "for name, group in train_user_df.groupby('session_id'):\n",
    "    nb_bookings = group[group['has_booking'] == 1].shape[0]\n",
    "    if (nb_bookings > 0):\n",
    "        actions = list(group['action_id'].values)\n",
    "        inter_actions = intersection(inter_actions, actions)\n",
    "    \n",
    "print(inter_actions)"
   ]
  },
  {
   "cell_type": "code",
   "execution_count": 15,
   "metadata": {},
   "outputs": [
    {
     "name": "stdout",
     "output_type": "stream",
     "text": [
      "[]\n"
     ]
    }
   ],
   "source": [
    "# Is there a common reference in the sessions with bookings?\n",
    "def intersection(lst1, lst2):\n",
    "    lst3 = [value for value in lst1 if value in lst2]\n",
    "    return lst3\n",
    "\n",
    "inter_actions = []\n",
    "\n",
    "for name, group in train_user_df.groupby('session_id'):\n",
    "    nb_bookings = group[group['has_booking'] == 1].shape[0]\n",
    "    if (nb_bookings > 0):\n",
    "        actions = list(group['reference'].values)\n",
    "        inter_actions = intersection(inter_actions, actions)\n",
    "    \n",
    "print(inter_actions)"
   ]
  },
  {
   "cell_type": "markdown",
   "metadata": {},
   "source": [
    "## Feature engineering\n",
    "\n",
    "In order to predict if a session has a booking or not, it is not sufficient to take only the session information (i.e., referer_code, is_app, agent_id, traffic_type) and the action information (i.e., action_id, reference) of the last step as features. Ideally, we have to take not only the session information but also all the action information in the session as features. Due to the limitation of the computation resource, for each session, I take the last n steps action information with the session information as features. \n"
   ]
  },
  {
   "cell_type": "code",
   "execution_count": null,
   "metadata": {},
   "outputs": [],
   "source": []
  },
  {
   "cell_type": "code",
   "execution_count": null,
   "metadata": {},
   "outputs": [],
   "source": []
  },
  {
   "cell_type": "code",
   "execution_count": null,
   "metadata": {},
   "outputs": [],
   "source": []
  },
  {
   "cell_type": "code",
   "execution_count": null,
   "metadata": {},
   "outputs": [],
   "source": []
  },
  {
   "cell_type": "code",
   "execution_count": null,
   "metadata": {},
   "outputs": [],
   "source": []
  },
  {
   "cell_type": "code",
   "execution_count": null,
   "metadata": {},
   "outputs": [],
   "source": []
  },
  {
   "cell_type": "code",
   "execution_count": null,
   "metadata": {},
   "outputs": [],
   "source": []
  }
 ],
 "metadata": {
  "kernelspec": {
   "display_name": "Python 3",
   "language": "python",
   "name": "python3"
  },
  "language_info": {
   "codemirror_mode": {
    "name": "ipython",
    "version": 3
   },
   "file_extension": ".py",
   "mimetype": "text/x-python",
   "name": "python",
   "nbconvert_exporter": "python",
   "pygments_lexer": "ipython3",
   "version": "3.6.4"
  }
 },
 "nbformat": 4,
 "nbformat_minor": 2
}
